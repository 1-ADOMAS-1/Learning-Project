{
  "nbformat": 4,
  "nbformat_minor": 0,
  "metadata": {
    "colab": {
      "provenance": [],
      "gpuType": "T4"
    },
    "kernelspec": {
      "name": "python3",
      "display_name": "Python 3"
    },
    "language_info": {
      "name": "python"
    },
    "accelerator": "GPU"
  },
  "cells": [
    {
      "cell_type": "markdown",
      "source": [
        "# transfer Learning"
      ],
      "metadata": {
        "id": "GdfNKVLPMnpm"
      }
    },
    {
      "cell_type": "markdown",
      "source": [
        "## Import libraries"
      ],
      "metadata": {
        "id": "q0jfQ5njMk2b"
      }
    },
    {
      "cell_type": "code",
      "source": [
        "import os\n",
        "import json\n",
        "from PIL import Image\n",
        "\n",
        "import torch\n",
        "import torch.nn as nn\n",
        "import torch.optim as optim\n",
        "import torch.utils.data as data\n",
        "import torchvision.transforms.v2 as v2\n",
        "\n",
        "from torchvision import models\n",
        "from tqdm import tqdm"
      ],
      "metadata": {
        "id": "2j4xt4Fwyn7n"
      },
      "execution_count": 1,
      "outputs": []
    },
    {
      "cell_type": "markdown",
      "source": [
        "## Folder"
      ],
      "metadata": {
        "id": "mqzQ6XADMZsf"
      }
    },
    {
      "cell_type": "code",
      "source": [
        "!unzip /content/dataset_dogs.zip"
      ],
      "metadata": {
        "collapsed": true,
        "id": "pPXiZLmQ377D"
      },
      "execution_count": null,
      "outputs": []
    },
    {
      "cell_type": "code",
      "source": [
        "import shutil\n",
        "shutil.move('/content/dogs/test/format.json', '/content/dogs')\n",
        "os.remove('/content/dogs/train/format.json')"
      ],
      "metadata": {
        "id": "JnRZOkA05d8G"
      },
      "execution_count": 3,
      "outputs": []
    },
    {
      "cell_type": "markdown",
      "source": [
        "## Class Dataset"
      ],
      "metadata": {
        "id": "6dNd-e-UMUcD"
      }
    },
    {
      "cell_type": "code",
      "source": [
        "class DogDataset(data.Dataset):\n",
        "  def __init__(self, path, train=True, transform = None):\n",
        "    self.path = os.path.join(path, 'train' if train else 'test')\n",
        "    self.transform = transform\n",
        "\n",
        "    with open(os.path.join(path, 'format.json'), 'r') as f:\n",
        "      self.format = json.load(f)\n",
        "\n",
        "    self.length = 0\n",
        "    self.files = []\n",
        "    self.targets = torch.eye(10)\n",
        "\n",
        "    for _dir, _target in self.format.items():\n",
        "      path = os.path.join(self.path, _dir)\n",
        "      list_file = os.listdir(path)\n",
        "      self.length += len(list_file)\n",
        "      self.files.extend(map(lambda _x: (os.path.join(path, _x), _target), list_file))\n",
        "\n",
        "\n",
        "  def __getitem__(self, item):\n",
        "    path_file, target = self.files[item]\n",
        "    t = self.targets[target]\n",
        "    img = Image.open(path_file)\n",
        "\n",
        "    if self.transform:\n",
        "      img = self.transform(img)\n",
        "\n",
        "    return img, t\n",
        "\n",
        "  def __len__(self):\n",
        "    return self.length"
      ],
      "metadata": {
        "id": "pa8pE49vz4Rg"
      },
      "execution_count": 4,
      "outputs": []
    },
    {
      "cell_type": "markdown",
      "source": [
        "## Model"
      ],
      "metadata": {
        "id": "mcdvmD27MS66"
      }
    },
    {
      "cell_type": "code",
      "source": [
        "resnet_w = models.ResNet50_Weights.DEFAULT\n",
        "transforms = resnet_w.transforms()\n",
        "\n",
        "model = models.resnet50(weights=resnet_w)\n",
        "model.requires_grad_(False)\n",
        "model.fc = nn.Linear(512*4, 10)\n",
        "model.fc.requires_grad_(True)"
      ],
      "metadata": {
        "colab": {
          "base_uri": "https://localhost:8080/"
        },
        "id": "2-X411rW2ueL",
        "outputId": "58c50027-837c-47b2-b3bc-2213afbfe46d"
      },
      "execution_count": 5,
      "outputs": [
        {
          "output_type": "execute_result",
          "data": {
            "text/plain": [
              "Linear(in_features=2048, out_features=10, bias=True)"
            ]
          },
          "metadata": {},
          "execution_count": 5
        }
      ]
    },
    {
      "cell_type": "markdown",
      "source": [
        "## Data Loader"
      ],
      "metadata": {
        "id": "3UShTefyMPRj"
      }
    },
    {
      "cell_type": "code",
      "source": [
        "batch=32\n",
        "\n",
        "d_train = DogDataset('dogs', transform=transforms)\n",
        "train_loader = data.DataLoader(d_train, batch_size=batch, shuffle=True, num_workers=4)\n",
        "\n",
        "d_test = DogDataset('dogs', train=False, transform=transforms)\n",
        "test_loader = data.DataLoader(d_test, batch_size=batch, shuffle=True, num_workers=4)"
      ],
      "metadata": {
        "colab": {
          "base_uri": "https://localhost:8080/"
        },
        "id": "aPwkydky4AFp",
        "outputId": "e34201a0-2fbe-4a95-f342-9a8003a01b7e"
      },
      "execution_count": 6,
      "outputs": [
        {
          "output_type": "stream",
          "name": "stderr",
          "text": [
            "/usr/local/lib/python3.12/dist-packages/torch/utils/data/dataloader.py:627: UserWarning: This DataLoader will create 4 worker processes in total. Our suggested max number of worker in current system is 2, which is smaller than what this DataLoader is going to create. Please be aware that excessive worker creation might get DataLoader running slow or even freeze, lower the worker number to avoid potential slowness/freeze if necessary.\n",
            "  warnings.warn(\n"
          ]
        }
      ]
    },
    {
      "cell_type": "markdown",
      "source": [
        "## Train"
      ],
      "metadata": {
        "id": "2jBL8MdfMMfe"
      }
    },
    {
      "cell_type": "code",
      "source": [
        "optimizer = optim.Adam(params=model.fc.parameters(), lr=0.001, weight_decay=0.001)\n",
        "loss_f = nn.CrossEntropyLoss()\n",
        "epochs=3"
      ],
      "metadata": {
        "id": "0292VBsL4pfc"
      },
      "execution_count": 7,
      "outputs": []
    },
    {
      "cell_type": "code",
      "source": [
        "device = torch.device('cuda' if torch.cuda.is_available() else 'cpu')\n",
        "device"
      ],
      "metadata": {
        "colab": {
          "base_uri": "https://localhost:8080/"
        },
        "id": "XOhzP1GX9N_y",
        "outputId": "67271bec-735e-4bb5-cdae-cf32f380b875"
      },
      "execution_count": 8,
      "outputs": [
        {
          "output_type": "execute_result",
          "data": {
            "text/plain": [
              "device(type='cuda')"
            ]
          },
          "metadata": {},
          "execution_count": 8
        }
      ]
    },
    {
      "cell_type": "code",
      "source": [
        "model.to(device)\n",
        "model.train()\n",
        "for _e in range(epochs):\n",
        "  loss_mean = 0\n",
        "  lm_c = 0\n",
        "\n",
        "  train_tqdm = tqdm(train_loader, leave=True)\n",
        "  for x_train, y_train in train_tqdm:\n",
        "    x_train, y_train = x_train.to(device), y_train.to(device)\n",
        "\n",
        "    predict = model(x_train)\n",
        "    loss = loss_f(predict, y_train)\n",
        "\n",
        "    optimizer.zero_grad()\n",
        "    loss.backward()\n",
        "    optimizer.step()\n",
        "\n",
        "    lm_c += 1\n",
        "    loss_mean = 1/lm_c*loss.item() + (1-1/lm_c)*loss_mean\n",
        "    train_tqdm.set_description(f'train [epoch:{_e+1 }] loss_mean={loss_mean:.3f}')"
      ],
      "metadata": {
        "colab": {
          "base_uri": "https://localhost:8080/"
        },
        "id": "o_eBMK9u8sg7",
        "outputId": "6765d006-bfa1-43c0-c245-09cc65b9950b"
      },
      "execution_count": 9,
      "outputs": [
        {
          "output_type": "stream",
          "name": "stderr",
          "text": [
            "train [epoch:1] loss_mean=1.361: 100%|██████████| 51/51 [00:09<00:00,  5.14it/s]\n",
            "train [epoch:2] loss_mean=0.516: 100%|██████████| 51/51 [00:09<00:00,  5.49it/s]\n",
            "train [epoch:3] loss_mean=0.329: 100%|██████████| 51/51 [00:07<00:00,  6.47it/s]\n"
          ]
        }
      ]
    },
    {
      "cell_type": "markdown",
      "source": [
        "## Test"
      ],
      "metadata": {
        "id": "W37eXR2ZMJHz"
      }
    },
    {
      "cell_type": "code",
      "source": [
        "Q = 0\n",
        "P = 0\n",
        "count = 0\n",
        "\n",
        "model.eval()\n",
        "test_tqdm = tqdm(test_loader, leave=True)\n",
        "for x_test, y_test in test_tqdm:\n",
        "  x_test, y_test = x_test.to(device), y_test.to(device)\n",
        "  with torch.no_grad():\n",
        "    pred = model(x_test)\n",
        "    Q += loss_f(pred, y_test)\n",
        "\n",
        "    pred = torch.argmax(pred, dim=1)\n",
        "    y = torch.argmax(y_test, dim=1)\n",
        "    P += torch.sum(pred == y).item()\n",
        "\n",
        "    count += 1\n",
        "\n",
        "\n",
        "print(f'\\n{(Q/count).item():.3f}, {P/len(d_test):.3f}')"
      ],
      "metadata": {
        "colab": {
          "base_uri": "https://localhost:8080/"
        },
        "id": "shpGUGujA-9Z",
        "outputId": "6eff3590-5354-4828-f1de-2dafd0d0972a"
      },
      "execution_count": 10,
      "outputs": [
        {
          "output_type": "stream",
          "name": "stderr",
          "text": [
            "100%|██████████| 10/10 [00:02<00:00,  3.69it/s]"
          ]
        },
        {
          "output_type": "stream",
          "name": "stdout",
          "text": [
            "\n",
            "0.328, 0.940\n"
          ]
        },
        {
          "output_type": "stream",
          "name": "stderr",
          "text": [
            "\n"
          ]
        }
      ]
    }
  ]
}