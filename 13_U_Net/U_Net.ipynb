{
  "nbformat": 4,
  "nbformat_minor": 0,
  "metadata": {
    "colab": {
      "provenance": [],
      "gpuType": "T4"
    },
    "kernelspec": {
      "name": "python3",
      "display_name": "Python 3"
    },
    "language_info": {
      "name": "python"
    },
    "accelerator": "GPU"
  },
  "cells": [
    {
      "cell_type": "markdown",
      "source": [
        "# U Net"
      ],
      "metadata": {
        "id": "Zvp7izICo18Q"
      }
    },
    {
      "cell_type": "markdown",
      "source": [
        "## import library"
      ],
      "metadata": {
        "id": "v8OpWOf6GJ_s"
      }
    },
    {
      "cell_type": "code",
      "execution_count": 1,
      "metadata": {
        "id": "b9tnFfOtovWD"
      },
      "outputs": [],
      "source": [
        "import os\n",
        "\n",
        "import numpy as np\n",
        "import matplotlib.pyplot as plt\n",
        "\n",
        "import torch\n",
        "import torch.nn as nn\n",
        "import torch.optim as optim\n",
        "import torch.utils.data as data\n",
        "\n",
        "import torchvision\n",
        "import torchvision.transforms.v2 as v2\n",
        "\n",
        "from torchvision import models\n",
        "from PIL import Image\n",
        "from tqdm import tqdm"
      ]
    },
    {
      "cell_type": "markdown",
      "source": [
        "## class Dataset"
      ],
      "metadata": {
        "id": "sVMvAsXiGMmP"
      }
    },
    {
      "cell_type": "code",
      "source": [
        "!unzip /content/dataset_seg.zip"
      ],
      "metadata": {
        "id": "r9LYD0MfrOjX"
      },
      "execution_count": null,
      "outputs": []
    },
    {
      "cell_type": "code",
      "source": [
        "class SegmentDataset(data.Dataset):\n",
        "  def __init__(self, path, transform_img=None, transform_mask=None):\n",
        "    self.path = path\n",
        "    self.transform_img = transform_img\n",
        "    self.transform_mask = transform_mask\n",
        "\n",
        "    path = os.path.join(self.path, 'images')\n",
        "    list_file = os.listdir(path)\n",
        "    self.length = len(list_file)\n",
        "    self.images = list(map(lambda x: os.path.join(path, x), list_file))\n",
        "\n",
        "    path = os.path.join(self.path, 'masks')\n",
        "    list_file = os.listdir(path)\n",
        "    self.masks = list(map(lambda x: os.path.join(path, x), list_file))\n",
        "\n",
        "  def __getitem__(self, item):\n",
        "    path_img, path_mask = self.images[item], self.masks[item]\n",
        "    img = Image.open(path_img).convert('RGB')\n",
        "    mask = Image.open(path_mask).convert('L')\n",
        "\n",
        "    if self.transform_img:\n",
        "      img = self.transform_img(img)\n",
        "\n",
        "    if self.transform_mask:\n",
        "      mask = self.transform_mask(mask)\n",
        "\n",
        "      mask[mask < 250] = 1\n",
        "      mask[mask >= 250] = 0\n",
        "\n",
        "    return img, mask\n",
        "\n",
        "  def __len__(self):\n",
        "    return self.length"
      ],
      "metadata": {
        "id": "04w7HPoCphYA"
      },
      "execution_count": 3,
      "outputs": []
    },
    {
      "cell_type": "markdown",
      "source": [
        "## U-Net"
      ],
      "metadata": {
        "id": "_oQotbwUGQJe"
      }
    },
    {
      "cell_type": "code",
      "source": [
        "class UNetSegModel(nn.Module):\n",
        "  class _TwoConvLayers(nn.Module):\n",
        "    def __init__(self, in_channels, out_channels):\n",
        "      super().__init__()\n",
        "      self.model_Two_Conv = nn.Sequential(\n",
        "          nn.Conv2d(in_channels, out_channels, 3, padding=1, bias=False),\n",
        "          nn.ReLU(inplace=True),\n",
        "          nn.BatchNorm2d(out_channels),\n",
        "\n",
        "          nn.Conv2d(out_channels, out_channels, 3, padding=1, bias=False),\n",
        "          nn.ReLU(inplace=True),\n",
        "          nn.BatchNorm2d(out_channels),\n",
        "      )\n",
        "\n",
        "    def forward(self, x):\n",
        "      return self.model_Two_Conv(x)\n",
        "\n",
        "  class _EncoderBlock(nn.Module):\n",
        "    def __init__(self, in_channels, out_channels):\n",
        "      super().__init__()\n",
        "      self.block = UNetSegModel._TwoConvLayers(in_channels, out_channels)\n",
        "      self.max_pool = nn.MaxPool2d(2)\n",
        "\n",
        "    def forward(self, x):\n",
        "      x = self.block(x)\n",
        "      y = self.max_pool(x)\n",
        "      return y, x\n",
        "\n",
        "  class _DecoderBlock(nn.Module):\n",
        "    def __init__(self, in_channels, out_channels):\n",
        "      super().__init__()\n",
        "      self.transpose = nn.ConvTranspose2d(in_channels, out_channels, 2, stride=2)\n",
        "      self.block = UNetSegModel._TwoConvLayers(in_channels, out_channels)\n",
        "\n",
        "    def forward(self, x, y):\n",
        "      x = self.transpose(x)\n",
        "      u = torch.cat([x, y], dim=1)\n",
        "      u = self.block(u)\n",
        "      return u\n",
        "\n",
        "  def __init__(self, in_channels=3, num_classes=1):\n",
        "    super().__init__()\n",
        "    self.enc_block1 = self._EncoderBlock(in_channels, 64)\n",
        "    self.enc_block2 = self._EncoderBlock(64, 128)\n",
        "    self.enc_block3 = self._EncoderBlock(128, 256)\n",
        "    self.enc_block4 = self._EncoderBlock(256, 512)\n",
        "\n",
        "    self.bottleneck = self._TwoConvLayers(512, 1024)\n",
        "\n",
        "    self.dec_block1 = self._DecoderBlock(1024, 512)\n",
        "    self.dec_block2 = self._DecoderBlock(512, 256)\n",
        "    self.dec_block3 = self._DecoderBlock(256, 128)\n",
        "    self.dec_block4 = self._DecoderBlock(128, 64)\n",
        "\n",
        "    self.out = nn.Conv2d(64, num_classes, 1)\n",
        "\n",
        "  def forward(self, x):\n",
        "    x, y1 = self.enc_block1(x)\n",
        "    x, y2 = self.enc_block2(x)\n",
        "    x, y3 = self.enc_block3(x)\n",
        "    x, y4 = self.enc_block4(x)\n",
        "\n",
        "    x = self.bottleneck(x)\n",
        "\n",
        "    x = self.dec_block1(x, y4)\n",
        "    x = self.dec_block2(x, y3)\n",
        "    x = self.dec_block3(x, y2)\n",
        "    x = self.dec_block4(x, y1)\n",
        "\n",
        "    return self.out(x)"
      ],
      "metadata": {
        "id": "tVvZ_jgssNFA"
      },
      "execution_count": 4,
      "outputs": []
    },
    {
      "cell_type": "markdown",
      "source": [
        "## loss function"
      ],
      "metadata": {
        "id": "dGmuGs3tGThH"
      }
    },
    {
      "cell_type": "code",
      "source": [
        "class SoftDiceLoss(nn.Module):\n",
        "  def __init__(self, smooth=1):\n",
        "    super().__init__()\n",
        "    self.smooth = smooth\n",
        "\n",
        "  def forward(self, logits, target):\n",
        "    num = target.size(0)\n",
        "    prods = nn.functional.sigmoid(logits)\n",
        "\n",
        "    m1 = prods.view(num, -1)\n",
        "    m2 = target.view(num, -1)\n",
        "    intersection = (m1*m2)\n",
        "\n",
        "    score = 2*(intersection.sum(1) + self.smooth) / (m1.sum(1)+m2.sum(1)+self.smooth)\n",
        "    score = 1-score.sum() / num\n",
        "    return score"
      ],
      "metadata": {
        "id": "Tjgok83yzQrg"
      },
      "execution_count": 5,
      "outputs": []
    },
    {
      "cell_type": "markdown",
      "source": [
        "## model"
      ],
      "metadata": {
        "id": "bOzeUwWqGbn3"
      }
    },
    {
      "cell_type": "code",
      "source": [
        "device = torch.device('cuda' if torch.cuda.is_available() else 'cpu')\n",
        "device"
      ],
      "metadata": {
        "colab": {
          "base_uri": "https://localhost:8080/"
        },
        "id": "Giq9UmLB9Q2a",
        "outputId": "9de0d542-7b6a-4ad8-a811-9cf485af4494"
      },
      "execution_count": 6,
      "outputs": [
        {
          "output_type": "execute_result",
          "data": {
            "text/plain": [
              "device(type='cuda')"
            ]
          },
          "metadata": {},
          "execution_count": 6
        }
      ]
    },
    {
      "cell_type": "code",
      "source": [
        "model = UNetSegModel()\n",
        "model.to(device)\n",
        "optimizer = optim.RMSprop(params=model.parameters(), lr=0.001)\n",
        "\n",
        "loss_1 = nn.BCEWithLogitsLoss()\n",
        "loss_2 = SoftDiceLoss()\n",
        "\n",
        "epochs = 30"
      ],
      "metadata": {
        "id": "Y4C7qhoy2vyg"
      },
      "execution_count": 7,
      "outputs": []
    },
    {
      "cell_type": "code",
      "source": [
        "tr_img = v2.Compose([v2.ToImage(), v2.ToDtype(torch.float32, scale=True)])\n",
        "tr_mask = v2.Compose([v2.ToImage(), v2.ToDtype(torch.float32)])\n",
        "\n",
        "d_train = SegmentDataset(r\"dataset_seg\", transform_img=tr_img, transform_mask=tr_mask)\n",
        "train_data = data.DataLoader(d_train, batch_size=2, shuffle=True, num_workers=4)"
      ],
      "metadata": {
        "colab": {
          "base_uri": "https://localhost:8080/"
        },
        "id": "DaFjA8Ou-SkT",
        "outputId": "455400a5-f4fa-4ffa-a60c-d73fbdbadd57"
      },
      "execution_count": 8,
      "outputs": [
        {
          "output_type": "stream",
          "name": "stderr",
          "text": [
            "/usr/local/lib/python3.12/dist-packages/torch/utils/data/dataloader.py:627: UserWarning: This DataLoader will create 4 worker processes in total. Our suggested max number of worker in current system is 2, which is smaller than what this DataLoader is going to create. Please be aware that excessive worker creation might get DataLoader running slow or even freeze, lower the worker number to avoid potential slowness/freeze if necessary.\n",
            "  warnings.warn(\n"
          ]
        }
      ]
    },
    {
      "cell_type": "markdown",
      "source": [
        "## Train"
      ],
      "metadata": {
        "id": "k4p_kbmiIKmF"
      }
    },
    {
      "cell_type": "code",
      "source": [
        "for _e in range(epochs):\n",
        "  loss_mean = 0\n",
        "  lm_count = 0\n",
        "\n",
        "  train_tqdm = tqdm(train_data, leave=True)\n",
        "  for x_train, y_train in train_tqdm:\n",
        "    x_train, y_train = x_train.to(device), y_train.to(device)\n",
        "    predict = model(x_train)\n",
        "    loss = loss_1(predict, y_train) + loss_2(predict, y_train)\n",
        "\n",
        "    optimizer.zero_grad()\n",
        "    loss.backward()\n",
        "    optimizer.step()\n",
        "\n",
        "    lm_count += 1\n",
        "    loss_mean = 1/lm_count * loss.item() + (1 - 1/lm_count) * loss_mean\n",
        "    train_tqdm.set_description(f\"Epoch [{_e+1}/{epochs}], loss_mean={loss_mean:.3f}\")\n",
        "\n",
        "st = model.state_dict()\n",
        "torch.save(st, 'model_unet_seg.tar')"
      ],
      "metadata": {
        "colab": {
          "base_uri": "https://localhost:8080/"
        },
        "id": "MpUF_sxa7kmY",
        "outputId": "3b535c95-8e6a-42bf-899a-6322128fb7ec"
      },
      "execution_count": 9,
      "outputs": [
        {
          "output_type": "stream",
          "name": "stderr",
          "text": [
            "Epoch [1/30], loss_mean=1.367: 100%|██████████| 10/10 [00:06<00:00,  1.64it/s]\n",
            "Epoch [2/30], loss_mean=1.226: 100%|██████████| 10/10 [00:04<00:00,  2.27it/s]\n",
            "Epoch [3/30], loss_mean=1.220: 100%|██████████| 10/10 [00:04<00:00,  2.22it/s]\n",
            "Epoch [4/30], loss_mean=1.174: 100%|██████████| 10/10 [00:04<00:00,  2.15it/s]\n",
            "Epoch [5/30], loss_mean=1.102: 100%|██████████| 10/10 [00:04<00:00,  2.21it/s]\n",
            "Epoch [6/30], loss_mean=1.085: 100%|██████████| 10/10 [00:04<00:00,  2.10it/s]\n",
            "Epoch [7/30], loss_mean=1.106: 100%|██████████| 10/10 [00:04<00:00,  2.07it/s]\n",
            "Epoch [8/30], loss_mean=1.069: 100%|██████████| 10/10 [00:04<00:00,  2.24it/s]\n",
            "Epoch [9/30], loss_mean=1.003: 100%|██████████| 10/10 [00:04<00:00,  2.20it/s]\n",
            "Epoch [10/30], loss_mean=1.000: 100%|██████████| 10/10 [00:04<00:00,  2.18it/s]\n",
            "Epoch [11/30], loss_mean=0.962: 100%|██████████| 10/10 [00:04<00:00,  2.17it/s]\n",
            "Epoch [12/30], loss_mean=0.944: 100%|██████████| 10/10 [00:04<00:00,  2.08it/s]\n",
            "Epoch [13/30], loss_mean=0.937: 100%|██████████| 10/10 [00:04<00:00,  2.19it/s]\n",
            "Epoch [14/30], loss_mean=0.884: 100%|██████████| 10/10 [00:04<00:00,  2.18it/s]\n",
            "Epoch [15/30], loss_mean=0.896: 100%|██████████| 10/10 [00:04<00:00,  2.17it/s]\n",
            "Epoch [16/30], loss_mean=0.910: 100%|██████████| 10/10 [00:04<00:00,  2.12it/s]\n",
            "Epoch [17/30], loss_mean=0.869: 100%|██████████| 10/10 [00:04<00:00,  2.15it/s]\n",
            "Epoch [18/30], loss_mean=0.860: 100%|██████████| 10/10 [00:04<00:00,  2.11it/s]\n",
            "Epoch [19/30], loss_mean=0.822: 100%|██████████| 10/10 [00:04<00:00,  2.12it/s]\n",
            "Epoch [20/30], loss_mean=0.837: 100%|██████████| 10/10 [00:04<00:00,  2.00it/s]\n",
            "Epoch [21/30], loss_mean=0.808: 100%|██████████| 10/10 [00:04<00:00,  2.13it/s]\n",
            "Epoch [22/30], loss_mean=0.822: 100%|██████████| 10/10 [00:04<00:00,  2.11it/s]\n",
            "Epoch [23/30], loss_mean=0.741: 100%|██████████| 10/10 [00:04<00:00,  2.07it/s]\n",
            "Epoch [24/30], loss_mean=0.809: 100%|██████████| 10/10 [00:04<00:00,  2.07it/s]\n",
            "Epoch [25/30], loss_mean=0.791: 100%|██████████| 10/10 [00:05<00:00,  1.99it/s]\n",
            "Epoch [26/30], loss_mean=0.767: 100%|██████████| 10/10 [00:04<00:00,  2.05it/s]\n",
            "Epoch [27/30], loss_mean=0.763: 100%|██████████| 10/10 [00:04<00:00,  2.07it/s]\n",
            "Epoch [28/30], loss_mean=0.701: 100%|██████████| 10/10 [00:04<00:00,  2.06it/s]\n",
            "Epoch [29/30], loss_mean=0.713: 100%|██████████| 10/10 [00:04<00:00,  2.04it/s]\n",
            "Epoch [30/30], loss_mean=0.728: 100%|██████████| 10/10 [00:05<00:00,  2.00it/s]\n"
          ]
        }
      ]
    },
    {
      "cell_type": "markdown",
      "source": [
        "## Test"
      ],
      "metadata": {
        "id": "02xv66GJIMcO"
      }
    },
    {
      "cell_type": "code",
      "source": [
        "st = torch.load('model_unet_seg.tar', weights_only=False)\n",
        "model.load_state_dict(st)\n",
        "model.eval()\n",
        "\n",
        "\n",
        "tr_img = v2.Compose([\n",
        "    v2.Resize((512, 512)),  # Подгоняем изображение под нужный размер\n",
        "    v2.ToTensor()\n",
        "])\n",
        "\n",
        "img = Image.open(r'car.jpg').convert('RGB')\n",
        "img = tr_img(img).unsqueeze(0)  # Добавляем batch dimension\n",
        "img = img.to(device)\n",
        "with torch.no_grad():\n",
        "  p = model(img).squeeze(0)\n",
        "  x = nn.functional.sigmoid(p.permute(1, 2, 0))\n",
        "  x = x.detach().cpu().numpy() * 255\n",
        "  x = np.clip(x, 0, 255).astype('uint8')\n",
        "\n",
        "\n",
        "plt.imshow(x, cmap='gray')\n",
        "plt.show()"
      ],
      "metadata": {
        "colab": {
          "base_uri": "https://localhost:8080/",
          "height": 435
        },
        "id": "E3NqVZQG8Tjt",
        "outputId": "c64bc843-b69f-48c2-f560-04e33134a1ff"
      },
      "execution_count": 11,
      "outputs": [
        {
          "output_type": "display_data",
          "data": {
            "text/plain": [
              "<Figure size 640x480 with 1 Axes>"
            ],
            "image/png": "[encoded data removed]"
          },
          "metadata": {}
        }
      ]
    }
  ]
}