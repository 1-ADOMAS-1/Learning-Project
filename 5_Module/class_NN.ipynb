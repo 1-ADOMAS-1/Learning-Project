{
  "nbformat": 4,
  "nbformat_minor": 0,
  "metadata": {
    "colab": {
      "provenance": []
    },
    "kernelspec": {
      "name": "python3",
      "display_name": "Python 3"
    },
    "language_info": {
      "name": "python"
    }
  },
  "cells": [
    {
      "cell_type": "markdown",
      "source": [
        "## import libraries"
      ],
      "metadata": {
        "id": "pwraX8Hpd4w8"
      }
    },
    {
      "cell_type": "code",
      "execution_count": null,
      "metadata": {
        "id": "nlqlV4LedYAO"
      },
      "outputs": [],
      "source": [
        "import torch\n",
        "import torch.nn as nn\n",
        "import torch.nn.functional as F\n",
        "import torch.optim as optim\n",
        "\n",
        "from random import randint"
      ]
    },
    {
      "cell_type": "markdown",
      "source": [
        "## nn.Linear"
      ],
      "metadata": {
        "id": "KaoUd5GueSEM"
      }
    },
    {
      "cell_type": "markdown",
      "source": [
        "layer"
      ],
      "metadata": {
        "id": "FsdkP0ndfxpT"
      }
    },
    {
      "cell_type": "code",
      "source": [
        "def forward(x, l1, l2):\n",
        "    return F.tanh(l2.forward(F.tanh(l1.forward(x))))"
      ],
      "metadata": {
        "id": "vH25PNI2gdCG"
      },
      "execution_count": null,
      "outputs": []
    },
    {
      "cell_type": "code",
      "source": [
        "layer1 = nn.Linear(3, 2)\n",
        "layer2 = nn.Linear(2, 1)"
      ],
      "metadata": {
        "id": "UNUVybBIeQ5I"
      },
      "execution_count": null,
      "outputs": []
    },
    {
      "cell_type": "code",
      "source": [
        "layer1.weight"
      ],
      "metadata": {
        "colab": {
          "base_uri": "https://localhost:8080/"
        },
        "id": "nxv0qULsg-0S",
        "outputId": "29470f15-198f-4557-a54b-142130170755"
      },
      "execution_count": null,
      "outputs": [
        {
          "output_type": "execute_result",
          "data": {
            "text/plain": [
              "Parameter containing:\n",
              "tensor([[-0.1973,  0.5563,  0.0563],\n",
              "        [-0.0590, -0.2371, -0.5569]], requires_grad=True)"
            ]
          },
          "metadata": {},
          "execution_count": 4
        }
      ]
    },
    {
      "cell_type": "code",
      "source": [
        "layer1.bias"
      ],
      "metadata": {
        "colab": {
          "base_uri": "https://localhost:8080/"
        },
        "id": "JswtNRtrhADV",
        "outputId": "58851c5c-0dea-4234-b2a3-b8c6f0ba0e7a"
      },
      "execution_count": null,
      "outputs": [
        {
          "output_type": "execute_result",
          "data": {
            "text/plain": [
              "Parameter containing:\n",
              "tensor([ 0.1195, -0.0674], requires_grad=True)"
            ]
          },
          "metadata": {},
          "execution_count": 5
        }
      ]
    },
    {
      "cell_type": "code",
      "source": [
        "w1 = torch.tensor([[ 0.4476, -0.9389,  0.4359, -0.2581],\n",
        "                            [-0.7970,  1.6001, -0.8061,  0.6937]])\n",
        "w2 = torch.tensor([ 1.2324, -2.2670, -0.3373])\n",
        "\n",
        "layer1.weight.data = w1[:, :3]\n",
        "layer2.weight.data = w2[:2]\n",
        "\n",
        "layer1.bias.data = w1[:, 3]\n",
        "layer2.bias.data = w2[2]"
      ],
      "metadata": {
        "id": "klYeHdYJonx3"
      },
      "execution_count": null,
      "outputs": []
    },
    {
      "cell_type": "code",
      "source": [
        "x = torch.FloatTensor([1, -1, 1])\n",
        "y = forward(x, layer1, layer2)"
      ],
      "metadata": {
        "id": "GLWKKsx8qceH"
      },
      "execution_count": null,
      "outputs": []
    },
    {
      "cell_type": "code",
      "source": [
        "print(y.data)"
      ],
      "metadata": {
        "colab": {
          "base_uri": "https://localhost:8080/"
        },
        "id": "3SJlvdAEql9p",
        "outputId": "448ebafa-3096-4e55-f52b-b232f077b9c8"
      },
      "execution_count": null,
      "outputs": [
        {
          "output_type": "stream",
          "name": "stdout",
          "text": [
            "tensor(0.9953)\n"
          ]
        }
      ]
    },
    {
      "cell_type": "markdown",
      "source": [
        "## nn.Module"
      ],
      "metadata": {
        "id": "6XlejiV0tt42"
      }
    },
    {
      "cell_type": "code",
      "source": [
        "class NetWork(nn.Module):\n",
        "  def __init__(self, input_dim, num_hidden, output_dim):\n",
        "    super().__init__()\n",
        "    self.layer1 = nn.Linear(input_dim, num_hidden)\n",
        "    self.layer2 = nn.Linear(num_hidden, output_dim)\n",
        "\n",
        "  def forward(self, x):\n",
        "    return F.tanh(self.layer2(F.tanh(self.layer1(x))))"
      ],
      "metadata": {
        "id": "aw0OJfL0t8iX"
      },
      "execution_count": null,
      "outputs": []
    },
    {
      "cell_type": "code",
      "source": [
        "model = NetWork(3, 2, 1)"
      ],
      "metadata": {
        "id": "euKgiqliu6ij"
      },
      "execution_count": null,
      "outputs": []
    },
    {
      "cell_type": "code",
      "source": [
        "model"
      ],
      "metadata": {
        "colab": {
          "base_uri": "https://localhost:8080/"
        },
        "id": "_LgC3qVYvPHi",
        "outputId": "6d90f8d2-d4f8-4eb2-d1ed-c0d692f37152"
      },
      "execution_count": null,
      "outputs": [
        {
          "output_type": "execute_result",
          "data": {
            "text/plain": [
              "NetWork(\n",
              "  (layer1): Linear(in_features=3, out_features=2, bias=True)\n",
              "  (layer2): Linear(in_features=2, out_features=1, bias=True)\n",
              ")"
            ]
          },
          "metadata": {},
          "execution_count": 11
        }
      ]
    },
    {
      "cell_type": "code",
      "source": [
        "list(model.parameters())"
      ],
      "metadata": {
        "colab": {
          "base_uri": "https://localhost:8080/"
        },
        "id": "2RCS1o8KvQNL",
        "outputId": "b9428cfa-ba18-44d7-9c16-87c61bc54413"
      },
      "execution_count": null,
      "outputs": [
        {
          "output_type": "execute_result",
          "data": {
            "text/plain": [
              "[Parameter containing:\n",
              " tensor([[-0.2046,  0.4974, -0.3150],\n",
              "         [-0.4507,  0.5590, -0.0701]], requires_grad=True),\n",
              " Parameter containing:\n",
              " tensor([-0.0372, -0.0314], requires_grad=True),\n",
              " Parameter containing:\n",
              " tensor([[-0.6978, -0.2416]], requires_grad=True),\n",
              " Parameter containing:\n",
              " tensor([0.3293], requires_grad=True)]"
            ]
          },
          "metadata": {},
          "execution_count": 12
        }
      ]
    },
    {
      "cell_type": "code",
      "source": [
        "X_train = torch.FloatTensor([(-1,-1,-1),\n",
        " (-1,-1,1), (-1,1,-1), (1,-1,-1),\n",
        " (1,1,-1), (1,-1,1), (-1,1,1), (1,1,1)])\n",
        "\n",
        "y_train = torch.FloatTensor([-1, 1, -1, 1, -1, 1, -1, -1])\n",
        "total = len(y_train)"
      ],
      "metadata": {
        "id": "p1YREbNKwDfF"
      },
      "execution_count": null,
      "outputs": []
    },
    {
      "cell_type": "code",
      "source": [
        "optimizer = optim.RMSprop(params=model.parameters(),lr=0.01)\n",
        "loss_f = nn.MSELoss()"
      ],
      "metadata": {
        "id": "amx7GX8RvUjx"
      },
      "execution_count": null,
      "outputs": []
    },
    {
      "cell_type": "code",
      "source": [
        "model.train()\n",
        "\n",
        "for _ in range(1000):\n",
        "  k = randint(0, total-1)\n",
        "  y = model(X_train[k])\n",
        "  y = y.squeeze()\n",
        "\n",
        "  loss = loss_f(y, y_train[k])\n",
        "  optimizer.zero_grad()\n",
        "  loss.backward()\n",
        "  optimizer.step()"
      ],
      "metadata": {
        "id": "U9UChT2Gvxru"
      },
      "execution_count": null,
      "outputs": []
    },
    {
      "cell_type": "code",
      "source": [
        "model.eval()\n",
        "for x, y in zip(X_train, y_train):\n",
        "  y_pred = model(x)\n",
        "  print(f'output {y_pred.data} -> {y}')"
      ],
      "metadata": {
        "colab": {
          "base_uri": "https://localhost:8080/"
        },
        "id": "DCgJPElCy2xI",
        "outputId": "3b8b0629-22d1-4a71-994f-0433cb2c7271"
      },
      "execution_count": null,
      "outputs": [
        {
          "output_type": "stream",
          "name": "stdout",
          "text": [
            "output tensor([-0.9840]) -> -1.0\n",
            "output tensor([0.9891]) -> 1.0\n",
            "output tensor([-0.9999]) -> -1.0\n",
            "output tensor([0.9920]) -> 1.0\n",
            "output tensor([-0.9998]) -> -1.0\n",
            "output tensor([0.9998]) -> 1.0\n",
            "output tensor([-0.9998]) -> -1.0\n",
            "output tensor([-0.9918]) -> -1.0\n"
          ]
        }
      ]
    }
  ]
}