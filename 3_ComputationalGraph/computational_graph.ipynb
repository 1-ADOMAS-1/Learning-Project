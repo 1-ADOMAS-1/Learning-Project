{
  "nbformat": 4,
  "nbformat_minor": 0,
  "metadata": {
    "colab": {
      "provenance": [],
      "gpuType": "T4"
    },
    "kernelspec": {
      "name": "python3",
      "display_name": "Python 3"
    },
    "language_info": {
      "name": "python"
    },
    "accelerator": "GPU"
  },
  "cells": [
    {
      "cell_type": "markdown",
      "source": [
        "# Automatic defferentiation"
      ],
      "metadata": {
        "id": "XRwT9DgFTReF"
      }
    },
    {
      "cell_type": "markdown",
      "source": [
        "## import libraries\n"
      ],
      "metadata": {
        "id": "ppinYQq_XMpu"
      }
    },
    {
      "cell_type": "code",
      "source": [
        "import torch"
      ],
      "metadata": {
        "id": "pM9rpX1lSwEP"
      },
      "execution_count": 1,
      "outputs": []
    },
    {
      "cell_type": "markdown",
      "source": [
        "## variables\n"
      ],
      "metadata": {
        "id": "vUVkENFGXX_l"
      }
    },
    {
      "cell_type": "code",
      "source": [
        "x = torch.tensor([2.], requires_grad=True)\n",
        "y = torch.tensor([-4.], requires_grad=True)"
      ],
      "metadata": {
        "id": "7Vr4exOAXSHo"
      },
      "execution_count": 2,
      "outputs": []
    },
    {
      "cell_type": "markdown",
      "source": [
        "## function"
      ],
      "metadata": {
        "id": "jU3N0Hm1XkEz"
      }
    },
    {
      "cell_type": "code",
      "source": [
        "#f = (x + y)**2 + 2*x*y\n",
        "a = (x + y)**2\n",
        "b = 2*x*y\n",
        "f = a + b\n",
        "\n",
        "f.backward()"
      ],
      "metadata": {
        "id": "x2yF2ZPFXjYr"
      },
      "execution_count": 3,
      "outputs": []
    },
    {
      "cell_type": "code",
      "source": [
        "print(f)\n",
        "print(x.data, x.grad)\n",
        "print(y.data, y.grad)"
      ],
      "metadata": {
        "colab": {
          "base_uri": "https://localhost:8080/"
        },
        "id": "9cx4rs9VXyrW",
        "outputId": "c609f9de-710d-4cb5-fabe-5f929f42ce27"
      },
      "execution_count": 4,
      "outputs": [
        {
          "output_type": "stream",
          "name": "stdout",
          "text": [
            "tensor([-12.], grad_fn=<AddBackward0>)\n",
            "tensor([2.]) tensor([-12.])\n",
            "tensor([-4.]) tensor([0.])\n"
          ]
        }
      ]
    }
  ]
}