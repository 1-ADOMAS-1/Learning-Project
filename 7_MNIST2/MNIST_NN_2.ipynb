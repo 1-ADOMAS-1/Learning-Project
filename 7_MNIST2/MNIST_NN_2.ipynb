{
  "nbformat": 4,
  "nbformat_minor": 0,
  "metadata": {
    "colab": {
      "provenance": [],
      "gpuType": "T4"
    },
    "kernelspec": {
      "name": "python3",
      "display_name": "Python 3"
    },
    "language_info": {
      "name": "python"
    },
    "accelerator": "GPU"
  },
  "cells": [
    {
      "cell_type": "markdown",
      "source": [
        "# MNIST"
      ],
      "metadata": {
        "id": "t7GjjzWRG_W1"
      }
    },
    {
      "cell_type": "markdown",
      "source": [
        "## import libraries"
      ],
      "metadata": {
        "id": "hYrkt9tlS3EV"
      }
    },
    {
      "cell_type": "code",
      "source": [
        "import os\n",
        "import json\n",
        "\n",
        "import torch\n",
        "import torchvision\n",
        "import torch.nn as nn\n",
        "import torch.optim as optim\n",
        "import torch.utils.data as data\n",
        "import torchvision.transforms.v2 as v2\n",
        "\n",
        "from torchvision import datasets, transforms\n",
        "from torchvision.datasets import ImageFolder\n",
        "from PIL import Image\n",
        "\n",
        "import matplotlib.pyplot as plt\n"
      ],
      "metadata": {
        "id": "RQrRoTbbS231"
      },
      "execution_count": 2,
      "outputs": []
    },
    {
      "cell_type": "markdown",
      "source": [
        "## Dataset"
      ],
      "metadata": {
        "id": "4GSz2erHSyd4"
      }
    },
    {
      "cell_type": "code",
      "source": [
        "transforms = v2.ToPILImage()"
      ],
      "metadata": {
        "id": "mJrRmbx35KyZ"
      },
      "execution_count": 3,
      "outputs": []
    },
    {
      "cell_type": "markdown",
      "source": [
        "dataset"
      ],
      "metadata": {
        "id": "hcJKxJ-fTl8J"
      }
    },
    {
      "cell_type": "code",
      "source": [
        "MNIST_train = torchvision.datasets.MNIST('./data/mnist', download=True, train=True)\n",
        "MNIST_test = torchvision.datasets.MNIST('./data/mnist', download=True, train=False)"
      ],
      "metadata": {
        "colab": {
          "base_uri": "https://localhost:8080/"
        },
        "id": "L_jxZvy5V6ed",
        "outputId": "0cdb1ca8-1cd0-4c76-fb07-c5bf1d496ab2"
      },
      "execution_count": 4,
      "outputs": [
        {
          "output_type": "stream",
          "name": "stderr",
          "text": [
            "100%|██████████| 9.91M/9.91M [00:00<00:00, 18.7MB/s]\n",
            "100%|██████████| 28.9k/28.9k [00:00<00:00, 510kB/s]\n",
            "100%|██████████| 1.65M/1.65M [00:00<00:00, 4.71MB/s]\n",
            "100%|██████████| 4.54k/4.54k [00:00<00:00, 9.74MB/s]\n"
          ]
        }
      ]
    },
    {
      "cell_type": "markdown",
      "source": [
        "folders"
      ],
      "metadata": {
        "id": "oohxJWcWYvCo"
      }
    },
    {
      "cell_type": "code",
      "source": [
        "if not os.path.exists('./dataset'):\n",
        "  os.mkdir('./dataset')\n",
        "\n",
        "  for info in ('train', 'test'):\n",
        "    os.mkdir(os.path.join('./dataset', info))\n",
        "    for i in range(10):\n",
        "      os.mkdir(os.path.join('./dataset', info, f'class_{i}'))"
      ],
      "metadata": {
        "id": "uHuHLEVSW1r_"
      },
      "execution_count": 5,
      "outputs": []
    },
    {
      "cell_type": "code",
      "source": [
        "for info in (('train', MNIST_train), ('test', MNIST_test)):\n",
        "  for i in range(10):\n",
        "    path = os.path.join('./dataset', info[0], f'class_{i}')\n",
        "    cls = info[1].data[info[1].targets == i]\n",
        "    for n, x in enumerate(cls):\n",
        "      x = transforms(x)\n",
        "      x.save(os.path.join(path, f'img_{n}.png'), 'png')"
      ],
      "metadata": {
        "id": "QyJ9TU9fY77m"
      },
      "execution_count": 6,
      "outputs": []
    },
    {
      "cell_type": "markdown",
      "source": [
        "json file"
      ],
      "metadata": {
        "id": "d2TEM5h6l59Q"
      }
    },
    {
      "cell_type": "code",
      "source": [
        "targets = dict()\n",
        "for i in range(10):\n",
        "  targets[f'class_{i}'] = i\n",
        "\n",
        "fp = open('/content/dataset/format.json', 'w')\n",
        "json.dump(targets, fp)\n",
        "fp.close()"
      ],
      "metadata": {
        "id": "yxQAwHPrlAYt"
      },
      "execution_count": 7,
      "outputs": []
    },
    {
      "cell_type": "markdown",
      "source": [
        "## ImageFolder"
      ],
      "metadata": {
        "id": "EQ8rTJvcoyR7"
      }
    },
    {
      "cell_type": "code",
      "source": [
        "to_tensor = v2.Compose([v2.ToTensor(), v2.Grayscale(),\n",
        "                        v2.ToDtype(torch.float32, scale=True),\n",
        "                        v2.Lambda(lambda x: x.ravel())])\n",
        "\n",
        "d_train = ImageFolder('dataset/train', transform=to_tensor)\n",
        "d_test = ImageFolder('dataset/test', transform=to_tensor)"
      ],
      "metadata": {
        "colab": {
          "base_uri": "https://localhost:8080/"
        },
        "id": "1IdQUhO5o0tC",
        "outputId": "4662188b-8c29-4343-9dd0-f1cbbb044c6b"
      },
      "execution_count": 8,
      "outputs": [
        {
          "output_type": "stream",
          "name": "stderr",
          "text": [
            "/usr/local/lib/python3.12/dist-packages/torchvision/transforms/v2/_deprecated.py:42: UserWarning: The transform `ToTensor()` is deprecated and will be removed in a future release. Instead, please use `v2.Compose([v2.ToImage(), v2.ToDtype(torch.float32, scale=True)])`.Output is equivalent up to float precision.\n",
            "  warnings.warn(\n"
          ]
        }
      ]
    },
    {
      "cell_type": "code",
      "source": [
        "plt.imshow((d_train[0][0]*255).reshape(28, 28))"
      ],
      "metadata": {
        "colab": {
          "base_uri": "https://localhost:8080/",
          "height": 447
        },
        "id": "ZPYZjeDIwAjs",
        "outputId": "9c3af585-18d3-4ea3-fed6-7f9e15c4346b"
      },
      "execution_count": 9,
      "outputs": [
        {
          "output_type": "execute_result",
          "data": {
            "text/plain": [
              "<matplotlib.image.AxesImage at 0x79ab7ab67b90>"
            ]
          },
          "metadata": {},
          "execution_count": 9
        },
        {
          "output_type": "display_data",
          "data": {
            "text/plain": [
              "<Figure size 640x480 with 1 Axes>"
            ],
            "image/png": "[encoded data removed]"
          },
          "metadata": {}
        }
      ]
    },
    {
      "cell_type": "markdown",
      "source": [
        "## Dataloader"
      ],
      "metadata": {
        "id": "FVD2hP-Mq5Z0"
      }
    },
    {
      "cell_type": "code",
      "source": [
        "batch_size = 100\n",
        "\n",
        "train_loader = data.DataLoader(d_train, batch_size=batch_size, shuffle=True)\n",
        "test_loader = data.DataLoader(d_test, batch_size=batch_size, shuffle=False)"
      ],
      "metadata": {
        "id": "bIyq0U7Aq0p7"
      },
      "execution_count": 10,
      "outputs": []
    },
    {
      "cell_type": "code",
      "source": [
        "len(train_loader), len(d_train)"
      ],
      "metadata": {
        "colab": {
          "base_uri": "https://localhost:8080/"
        },
        "id": "aCuPZi4-Fh1Y",
        "outputId": "16df62f1-d818-4f84-8732-5cae23ef3a0b"
      },
      "execution_count": 11,
      "outputs": [
        {
          "output_type": "execute_result",
          "data": {
            "text/plain": [
              "(600, 60000)"
            ]
          },
          "metadata": {},
          "execution_count": 11
        }
      ]
    },
    {
      "cell_type": "markdown",
      "source": [
        "## Class NN"
      ],
      "metadata": {
        "id": "BnvHIkdg_kNK"
      }
    },
    {
      "cell_type": "code",
      "source": [
        "class NN_mnist(nn.Module):\n",
        "  def __init__(self, input_dim, num_hidden, output_dim):\n",
        "    super().__init__()\n",
        "    self.layer1 = nn.Linear(input_dim, num_hidden)\n",
        "    self.layer2 = nn.Linear(num_hidden, output_dim)\n",
        "\n",
        "  def forward(self, x):\n",
        "    x = self.layer1(x)\n",
        "    x = nn.functional.relu(x)\n",
        "    x = self.layer2(x)\n",
        "\n",
        "    return x"
      ],
      "metadata": {
        "id": "jLwwgpM5_jPJ"
      },
      "execution_count": 12,
      "outputs": []
    },
    {
      "cell_type": "code",
      "source": [
        "model = NN_mnist(28*28, 32, 10)"
      ],
      "metadata": {
        "id": "gEaG2nZrBTd-"
      },
      "execution_count": 13,
      "outputs": []
    },
    {
      "cell_type": "markdown",
      "source": [
        "## Train"
      ],
      "metadata": {
        "id": "q0i4vX4EBLVX"
      }
    },
    {
      "cell_type": "code",
      "source": [
        "optimizer = optim.Adam(params=model.parameters(), lr=0.01)\n",
        "loss_f = nn.CrossEntropyLoss()\n",
        "\n",
        "epochs= 5"
      ],
      "metadata": {
        "id": "-jvI6GfOBPKT"
      },
      "execution_count": 14,
      "outputs": []
    },
    {
      "cell_type": "code",
      "source": [
        "model.train()\n",
        "\n",
        "for _ in range(epochs):\n",
        "  for x_train, y_train in train_loader:\n",
        "    output = model(x_train)\n",
        "    loss = loss_f(output, y_train)\n",
        "\n",
        "    optimizer.zero_grad()\n",
        "    loss.backward()\n",
        "    optimizer.step()"
      ],
      "metadata": {
        "id": "g0RKCXOFCBpg"
      },
      "execution_count": 15,
      "outputs": []
    },
    {
      "cell_type": "markdown",
      "source": [
        "## Test"
      ],
      "metadata": {
        "id": "bcWsowa-G3TR"
      }
    },
    {
      "cell_type": "code",
      "source": [
        "model.eval()\n",
        "Q=0\n",
        "\n",
        "for x_test, y_test in test_loader:\n",
        "  with torch.no_grad():\n",
        "    output = model(x_test)\n",
        "\n",
        "    output = torch.argmax(output, dim=1)\n",
        "\n",
        "    Q += torch.sum(output==y_test).item()\n",
        "\n",
        "print(Q / len(d_test))"
      ],
      "metadata": {
        "colab": {
          "base_uri": "https://localhost:8080/"
        },
        "id": "KhjMPehmCoZi",
        "outputId": "60b03819-40bd-4596-fccb-82bfaf236a08"
      },
      "execution_count": 16,
      "outputs": [
        {
          "output_type": "stream",
          "name": "stdout",
          "text": [
            "0.955\n"
          ]
        }
      ]
    },
    {
      "cell_type": "markdown",
      "source": [
        "## save/load model"
      ],
      "metadata": {
        "id": "Y24FB7uOMODN"
      }
    },
    {
      "cell_type": "code",
      "source": [
        "st = model.state_dict()\n",
        "st"
      ],
      "metadata": {
        "colab": {
          "base_uri": "https://localhost:8080/"
        },
        "collapsed": true,
        "id": "LbnEcTenMSqj",
        "outputId": "0ec612ad-0d7f-41a6-8f41-ab37c075d404"
      },
      "execution_count": 17,
      "outputs": [
        {
          "output_type": "execute_result",
          "data": {
            "text/plain": [
              "OrderedDict([('layer1.weight',\n",
              "              tensor([[-0.0293, -0.0207,  0.0223,  ...,  0.0317, -0.0174,  0.0009],\n",
              "                      [ 0.0160, -0.0206, -0.0142,  ...,  0.0072, -0.0192, -0.0310],\n",
              "                      [-0.0024,  0.0101,  0.0280,  ..., -0.0063,  0.0191, -0.0201],\n",
              "                      ...,\n",
              "                      [-0.0175, -0.0067, -0.0188,  ...,  0.0060,  0.0109,  0.0099],\n",
              "                      [ 0.0041,  0.0351,  0.0097,  ...,  0.0215, -0.0030,  0.0060],\n",
              "                      [-0.0243,  0.0234,  0.0253,  ..., -0.0047, -0.0259, -0.0058]])),\n",
              "             ('layer1.bias',\n",
              "              tensor([ 0.2968, -0.2491, -0.1086, -0.5700,  0.6919,  0.0662, -0.0802, -0.5909,\n",
              "                      -0.0933, -0.0959, -0.0357,  0.6161, -0.2809, -0.2615, -0.0312, -0.1622,\n",
              "                      -0.0486,  1.1576, -0.3161,  0.4705,  0.8834, -0.5877, -0.1015,  0.4841,\n",
              "                      -0.0759, -0.2747, -0.0661,  0.1404, -0.5162,  0.9774, -0.0678,  0.3783])),\n",
              "             ('layer2.weight',\n",
              "              tensor([[ 3.5679e-01,  1.1536e-01, -1.5163e-01, -4.4984e-01,  2.2365e-01,\n",
              "                       -4.3835e-01,  4.5244e-02,  3.5342e-01,  2.7745e-01,  8.3207e-02,\n",
              "                       -9.8736e-02, -2.8700e-01,  3.3100e-01, -1.9098e-01, -1.1218e-01,\n",
              "                       -9.8676e-01,  2.9255e-02,  3.1931e-01,  2.0535e-01, -3.6572e-01,\n",
              "                        2.6251e-01, -6.7916e-01, -8.1682e-01, -2.3273e-01,  3.9730e-02,\n",
              "                       -2.2074e-01, -1.9385e-01, -2.6941e-01,  1.4301e-02, -5.2641e-01,\n",
              "                       -5.0090e-02, -2.1629e-01],\n",
              "                      [-8.7347e-02, -7.7878e-01,  3.4068e-01,  8.1308e-02, -9.3470e-01,\n",
              "                        3.9352e-01,  6.6367e-02, -4.9411e-01, -1.2481e-01, -7.6956e-04,\n",
              "                       -1.4390e-01,  4.2589e-01,  2.5125e-01, -1.1535e-01, -8.4478e-02,\n",
              "                        1.7226e-02,  3.8133e-02,  2.2271e-01, -4.3831e-01,  1.4425e-01,\n",
              "                       -4.0129e-01, -1.2956e-01,  1.9156e-01,  5.3645e-01, -4.0893e-02,\n",
              "                        5.4397e-01,  1.1532e-02,  1.3799e-01, -5.0509e-01,  2.6673e-01,\n",
              "                       -8.3421e-03, -2.0028e-01],\n",
              "                      [ 3.7907e-02, -1.0622e-01, -8.5007e-02,  6.0905e-02,  8.4640e-03,\n",
              "                        2.0417e-01, -5.7742e-03,  1.9845e-01,  2.4729e-02,  2.1833e-02,\n",
              "                       -1.7309e-01, -2.8653e-01,  1.9127e-01,  3.5366e-01,  2.1347e-02,\n",
              "                        2.6375e-01, -1.1051e-01, -8.9685e-02, -4.9596e-01,  2.4568e-01,\n",
              "                        4.7748e-01, -4.1998e-01,  5.3406e-01, -9.8923e-01, -9.0616e-02,\n",
              "                        3.0762e-01, -1.2480e-01,  6.2681e-01, -3.9122e-01,  9.1254e-02,\n",
              "                       -3.4503e-02, -6.0374e-01],\n",
              "                      [-2.6711e-01,  1.5270e-01,  3.4071e-01,  4.3165e-01, -2.6675e-01,\n",
              "                        1.6555e-01,  7.4688e-02, -2.3275e-01, -3.7465e-01, -4.3963e-02,\n",
              "                        5.6357e-02, -4.5416e-01, -3.1184e-01,  2.7849e-01, -2.6072e-02,\n",
              "                        1.4402e-01, -9.2519e-02, -8.1467e-02,  2.8680e-01, -2.2360e-01,\n",
              "                        2.4404e-02,  1.8256e-01, -4.9813e-02, -6.9397e-01,  1.1014e-01,\n",
              "                        1.5118e-01, -2.2975e-02,  4.2818e-01,  1.3018e-01, -2.4579e-01,\n",
              "                        8.2923e-03, -1.6801e-01],\n",
              "                      [ 1.2060e-01, -5.7487e-01, -8.5708e-01, -4.2014e-01,  2.9316e-01,\n",
              "                        3.9478e-01,  3.0818e-02, -3.8374e-01,  4.0194e-01,  5.4497e-02,\n",
              "                        4.2919e-02, -3.5429e-01, -8.0271e-02, -1.0911e+00,  6.5005e-02,\n",
              "                       -2.0593e-01,  5.6635e-03, -2.8561e-01, -5.4937e-01, -6.0567e-01,\n",
              "                       -3.5695e-02,  3.1084e-01, -2.5998e-01,  1.1097e-01, -1.6621e-01,\n",
              "                        1.6069e-01, -2.0330e-01, -5.4946e-01, -3.6220e-01,  4.2826e-01,\n",
              "                       -2.1673e-01,  2.6458e-01],\n",
              "                      [-1.6367e-01,  3.3431e-01,  5.0674e-01,  1.5538e-01, -1.6399e-01,\n",
              "                       -4.6181e-01, -7.4008e-02, -2.3329e-01, -4.9256e-02, -7.2962e-02,\n",
              "                        1.5766e-02,  3.1956e-01, -7.7428e-01, -3.2740e-02,  1.5542e-01,\n",
              "                        1.0980e-01, -1.3219e-02,  3.0135e-01,  3.0816e-01,  3.0680e-01,\n",
              "                        2.3433e-01, -1.0676e-01, -1.3991e-01,  2.4879e-01,  4.5197e-02,\n",
              "                       -3.9142e-01, -7.5099e-02, -1.2184e-01, -2.8207e-01, -2.5876e-01,\n",
              "                       -5.6689e-02,  2.0726e-01],\n",
              "                      [ 2.4153e-01,  2.5168e-03, -5.8665e-01, -1.3183e+00,  4.4008e-01,\n",
              "                       -7.2600e-02, -5.5221e-02, -1.6261e-03, -2.6770e-01, -1.0494e-01,\n",
              "                       -1.0366e-01,  5.4849e-01, -2.0862e-01, -2.0242e-01, -2.1366e-01,\n",
              "                       -1.3690e-01,  9.7290e-02, -4.1631e-01,  2.0153e-01,  2.9304e-01,\n",
              "                       -5.2471e-01, -5.9770e-01, -2.8041e-01,  1.0854e-01,  1.9428e-01,\n",
              "                       -2.1147e-01, -1.1737e-02, -3.7844e-01, -7.5135e-02, -2.9232e-01,\n",
              "                       -2.0179e-01, -6.6368e-02],\n",
              "                      [ 4.2250e-01, -2.8011e-01, -4.6716e-01, -9.6719e-02, -4.1595e-01,\n",
              "                        1.2784e-01,  9.0357e-02, -4.2401e-01, -1.1596e-01, -7.8249e-03,\n",
              "                        9.9367e-03, -5.7714e-02, -9.0962e-02,  2.7525e-01,  3.7835e-02,\n",
              "                       -3.8339e-01, -2.2321e-01,  4.5864e-01, -9.1975e-01, -1.7849e-02,\n",
              "                       -1.5703e-01, -2.0075e-01,  2.6066e-01,  3.5805e-01,  1.0983e-01,\n",
              "                        2.2050e-01,  1.0679e-01,  6.1583e-01,  2.1776e-01,  4.2308e-01,\n",
              "                       -2.1356e-02,  1.2400e-01],\n",
              "                      [-6.8548e-01,  3.1535e-01, -5.0329e-01, -1.4741e-01, -1.1174e-01,\n",
              "                       -1.4856e-01,  1.9890e-01,  1.7005e-01,  4.6986e-02, -9.9326e-02,\n",
              "                       -9.9510e-03, -7.2335e-02, -1.4021e-01, -1.5867e-01, -8.8380e-03,\n",
              "                        1.5698e-01,  1.7967e-01, -4.3837e-01,  4.5822e-02,  9.1752e-02,\n",
              "                       -8.3223e-01,  2.6862e-01,  2.8001e-01, -9.1643e-02,  4.4881e-02,\n",
              "                       -1.3436e-01, -2.1011e-01, -4.8313e-01, -1.4916e-01, -5.3513e-01,\n",
              "                        1.3418e-02,  2.5197e-01],\n",
              "                      [ 1.0942e-01, -2.0153e-01,  1.5236e-01,  1.2934e-01, -3.7140e-01,\n",
              "                       -3.0620e-01,  3.7861e-02, -1.2896e-01,  3.2794e-01, -1.1404e-01,\n",
              "                        6.0703e-02,  8.7139e-03,  2.1137e-01, -3.6023e-02, -1.8802e-02,\n",
              "                        5.1814e-02,  4.7550e-02, -2.4972e-01, -3.3096e-01, -4.6613e-01,\n",
              "                        2.3486e-01,  2.9506e-01, -7.4312e-01,  2.6643e-03,  9.5214e-02,\n",
              "                       -7.0820e-01, -1.4748e-02, -1.0994e+00,  2.7643e-01,  1.8418e-01,\n",
              "                        2.5237e-03,  3.0566e-01]])),\n",
              "             ('layer2.bias',\n",
              "              tensor([-0.2073,  0.0169, -0.5752, -0.3777,  0.6876,  0.3535, -0.1136, -0.0434,\n",
              "                      -0.0111,  0.2603]))])"
            ]
          },
          "metadata": {},
          "execution_count": 17
        }
      ]
    },
    {
      "cell_type": "code",
      "source": [
        "torch.save(st, 'model_dnn.tar')"
      ],
      "metadata": {
        "id": "Cbu-fIN6M0lb"
      },
      "execution_count": 18,
      "outputs": []
    },
    {
      "cell_type": "code",
      "source": [
        "device = torch.device('cuda' if torch.cuda.is_available() else 'cpu')\n",
        "device"
      ],
      "metadata": {
        "colab": {
          "base_uri": "https://localhost:8080/"
        },
        "id": "UmK7hP2VQk6N",
        "outputId": "01d750e1-241a-4bf5-fc1e-24e241c93f6f"
      },
      "execution_count": 20,
      "outputs": [
        {
          "output_type": "execute_result",
          "data": {
            "text/plain": [
              "device(type='cuda')"
            ]
          },
          "metadata": {},
          "execution_count": 20
        }
      ]
    },
    {
      "cell_type": "code",
      "source": [
        "st_dict = torch.load('model_dnn.tar', weights_only=True, map_location=device)"
      ],
      "metadata": {
        "id": "jcWBLVtDNIgK"
      },
      "execution_count": 21,
      "outputs": []
    },
    {
      "cell_type": "code",
      "source": [
        "model1 = NN_mnist(28*28, 32, 10)\n",
        "model2 = NN_mnist(28*28, 32, 10)\n",
        "model2.load_state_dict(st_dict)"
      ],
      "metadata": {
        "colab": {
          "base_uri": "https://localhost:8080/"
        },
        "id": "u-kALHrMQPpH",
        "outputId": "077ffb16-c758-40a2-e5b0-0129116f5259"
      },
      "execution_count": 24,
      "outputs": [
        {
          "output_type": "execute_result",
          "data": {
            "text/plain": [
              "<All keys matched successfully>"
            ]
          },
          "metadata": {},
          "execution_count": 24
        }
      ]
    },
    {
      "cell_type": "code",
      "source": [
        "for i, model in enumerate([model1, model2]):\n",
        "  Q=0\n",
        "  for x_test, y_test in test_loader:\n",
        "    with torch.no_grad():\n",
        "      output = model(x_test)\n",
        "\n",
        "      output = torch.argmax(output, dim=1)\n",
        "\n",
        "      Q += torch.sum(output==y_test).item()\n",
        "\n",
        "  print(Q / len(d_test), f'model: {i+1}')"
      ],
      "metadata": {
        "colab": {
          "base_uri": "https://localhost:8080/"
        },
        "id": "xLiXi3onPk74",
        "outputId": "cd06d90a-07f0-4c00-a0ce-b933eeee6481"
      },
      "execution_count": 27,
      "outputs": [
        {
          "output_type": "stream",
          "name": "stdout",
          "text": [
            "0.0743 model: 1\n",
            "0.955 model: 2\n"
          ]
        }
      ]
    },
    {
      "cell_type": "markdown",
      "source": [
        "## Model train 2"
      ],
      "metadata": {
        "id": "gag29XcASddf"
      }
    },
    {
      "cell_type": "code",
      "source": [
        "from tqdm import tqdm"
      ],
      "metadata": {
        "id": "NcXULTjUTAvV"
      },
      "execution_count": 35,
      "outputs": []
    },
    {
      "cell_type": "code",
      "source": [
        "model = NN_mnist(28*28, 32, 10)\n",
        "\n",
        "optimizer = optim.Adam(params=model.parameters(), lr=0.01)\n",
        "loss_f = nn.CrossEntropyLoss()\n",
        "\n",
        "epochs= 5"
      ],
      "metadata": {
        "id": "vHvoS5zWSiYD"
      },
      "execution_count": 37,
      "outputs": []
    },
    {
      "cell_type": "code",
      "source": [
        "model.train()\n",
        "\n",
        "best_loss = 1e10\n",
        "for epoch in range(epochs):\n",
        "  loss_mean = 0\n",
        "  lm_count = 0\n",
        "\n",
        "  train_tqdm = tqdm(train_loader, leave=True)\n",
        "  for x_train, y_train in train_tqdm:\n",
        "    output = model(x_train)\n",
        "    loss = loss_f(output, y_train)\n",
        "\n",
        "    optimizer.zero_grad()\n",
        "    loss.backward()\n",
        "    optimizer.step()\n",
        "\n",
        "    lm_count += 1\n",
        "    loss_mean = 1/lm_count*loss.item() + (1-1/lm_count)*loss_mean\n",
        "\n",
        "  if best_loss > loss_mean * 1.1:\n",
        "    best_loss = loss_mean\n",
        "    st = model.state_dict()\n",
        "    torch.save(st, f'model_dnn_{epoch+1}.tar')"
      ],
      "metadata": {
        "colab": {
          "base_uri": "https://localhost:8080/"
        },
        "id": "HXvRPAEnStTR",
        "outputId": "8d50d06b-207b-4cb3-a28d-e8eb5c15b601"
      },
      "execution_count": 38,
      "outputs": [
        {
          "output_type": "stream",
          "name": "stderr",
          "text": [
            "100%|██████████| 600/600 [00:25<00:00, 23.64it/s]\n",
            "100%|██████████| 600/600 [00:25<00:00, 23.38it/s]\n",
            "100%|██████████| 600/600 [00:25<00:00, 23.66it/s]\n",
            "100%|██████████| 600/600 [00:26<00:00, 22.95it/s]\n",
            "100%|██████████| 600/600 [00:25<00:00, 23.81it/s]\n"
          ]
        }
      ]
    }
  ]
}