{
  "nbformat": 4,
  "nbformat_minor": 0,
  "metadata": {
    "colab": {
      "provenance": [],
      "gpuType": "T4"
    },
    "kernelspec": {
      "name": "python3",
      "display_name": "Python 3"
    },
    "language_info": {
      "name": "python"
    },
    "accelerator": "GPU"
  },
  "cells": [
    {
      "cell_type": "markdown",
      "source": [
        "# MNIST"
      ],
      "metadata": {
        "id": "t7GjjzWRG_W1"
      }
    },
    {
      "cell_type": "markdown",
      "source": [
        "## import libraries"
      ],
      "metadata": {
        "id": "hYrkt9tlS3EV"
      }
    },
    {
      "cell_type": "code",
      "source": [
        "import os\n",
        "import json\n",
        "\n",
        "import torch\n",
        "import torchvision\n",
        "import torch.nn as nn\n",
        "import torch.optim as optim\n",
        "import torch.utils.data as data\n",
        "import torchvision.transforms.v2 as v2\n",
        "\n",
        "from torchvision import datasets, transforms\n",
        "from PIL import Image"
      ],
      "metadata": {
        "id": "RQrRoTbbS231"
      },
      "execution_count": 1,
      "outputs": []
    },
    {
      "cell_type": "markdown",
      "source": [
        "## Dataset"
      ],
      "metadata": {
        "id": "4GSz2erHSyd4"
      }
    },
    {
      "cell_type": "code",
      "source": [
        "transforms = v2.ToPILImage()"
      ],
      "metadata": {
        "id": "mJrRmbx35KyZ"
      },
      "execution_count": 2,
      "outputs": []
    },
    {
      "cell_type": "markdown",
      "source": [
        "dataset"
      ],
      "metadata": {
        "id": "hcJKxJ-fTl8J"
      }
    },
    {
      "cell_type": "code",
      "source": [
        "MNIST_train = torchvision.datasets.MNIST('./data/mnist', download=True, train=True)\n",
        "MNIST_test = torchvision.datasets.MNIST('./data/mnist', download=True, train=False)"
      ],
      "metadata": {
        "colab": {
          "base_uri": "https://localhost:8080/"
        },
        "id": "L_jxZvy5V6ed",
        "outputId": "62d2061d-fc3e-4023-9500-2f2e151d736e"
      },
      "execution_count": 3,
      "outputs": [
        {
          "output_type": "stream",
          "name": "stderr",
          "text": [
            "100%|██████████| 9.91M/9.91M [00:01<00:00, 5.04MB/s]\n",
            "100%|██████████| 28.9k/28.9k [00:00<00:00, 135kB/s]\n",
            "100%|██████████| 1.65M/1.65M [00:01<00:00, 1.25MB/s]\n",
            "100%|██████████| 4.54k/4.54k [00:00<00:00, 7.53MB/s]\n"
          ]
        }
      ]
    },
    {
      "cell_type": "markdown",
      "source": [
        "folders"
      ],
      "metadata": {
        "id": "oohxJWcWYvCo"
      }
    },
    {
      "cell_type": "code",
      "source": [
        "if not os.path.exists('./dataset'):\n",
        "  os.mkdir('./dataset')\n",
        "\n",
        "  for info in ('train', 'test'):\n",
        "    os.mkdir(os.path.join('./dataset', info))\n",
        "    for i in range(10):\n",
        "      os.mkdir(os.path.join('./dataset', info, f'class_{i}'))"
      ],
      "metadata": {
        "id": "uHuHLEVSW1r_"
      },
      "execution_count": 4,
      "outputs": []
    },
    {
      "cell_type": "code",
      "source": [
        "for info in (('train', MNIST_train), ('test', MNIST_test)):\n",
        "  for i in range(10):\n",
        "    path = os.path.join('./dataset', info[0], f'class_{i}')\n",
        "    cls = info[1].data[info[1].targets == i]\n",
        "    for n, x in enumerate(cls):\n",
        "      x = transforms(x)\n",
        "      x.save(os.path.join(path, f'img_{n}.png'), 'png')"
      ],
      "metadata": {
        "id": "QyJ9TU9fY77m"
      },
      "execution_count": 5,
      "outputs": []
    },
    {
      "cell_type": "markdown",
      "source": [
        "json file"
      ],
      "metadata": {
        "id": "d2TEM5h6l59Q"
      }
    },
    {
      "cell_type": "code",
      "source": [
        "targets = dict()\n",
        "for i in range(10):\n",
        "  targets[f'class_{i}'] = i\n",
        "\n",
        "fp = open('/content/dataset/format.json', 'w')\n",
        "json.dump(targets, fp)\n",
        "fp.close()"
      ],
      "metadata": {
        "id": "yxQAwHPrlAYt"
      },
      "execution_count": 6,
      "outputs": []
    },
    {
      "cell_type": "markdown",
      "source": [
        "## class Dataset"
      ],
      "metadata": {
        "id": "I-V1QldxpEps"
      }
    },
    {
      "cell_type": "code",
      "source": [
        "class DigitDataset(data.Dataset):\n",
        "  def __init__(self, path, train=True, transform=None):\n",
        "    self.path = os.path.join(path, 'train' if train else 'test')\n",
        "    self.transform = transform\n",
        "\n",
        "    with open(os.path.join(path, 'format.json'), 'r') as f:\n",
        "      self.format = json.load(f)\n",
        "\n",
        "    self.length = 0\n",
        "    self.files = []\n",
        "    self.targets = torch.eye(10)\n",
        "\n",
        "    for _dir, _target in self.format.items():\n",
        "      path = os.path.join(self.path, _dir)\n",
        "      list_files = os.listdir(path)\n",
        "      self.length += len(list_files)\n",
        "      self.files.extend(map(lambda _x: (os.path.join(path, _x), _target), list_files))\n",
        "\n",
        "  def __getitem__(self, item):\n",
        "    path_file, target = self.files[item]\n",
        "    t = self.targets[target]\n",
        "    img = Image.open(path_file)\n",
        "\n",
        "    if self.transform:\n",
        "      img = self.transform(img).ravel().float() / 255.\n",
        "\n",
        "    return img, t\n",
        "\n",
        "  def __len__(self):\n",
        "    return self.length"
      ],
      "metadata": {
        "id": "mnTWpCWZpEQ9"
      },
      "execution_count": 7,
      "outputs": []
    },
    {
      "cell_type": "code",
      "source": [
        "transform = v2.ToImage()"
      ],
      "metadata": {
        "id": "Ahv356vMvZHV"
      },
      "execution_count": 8,
      "outputs": []
    },
    {
      "cell_type": "code",
      "source": [
        "d_train = DigitDataset('dataset')\n",
        "d_test = DigitDataset('dataset', train=False)"
      ],
      "metadata": {
        "id": "_ASg8i1ivahG"
      },
      "execution_count": 9,
      "outputs": []
    },
    {
      "cell_type": "markdown",
      "source": [
        "### test without transform"
      ],
      "metadata": {
        "id": "_iKdzeYzrjM6"
      }
    },
    {
      "cell_type": "code",
      "source": [
        "import matplotlib.pyplot as plt\n",
        "\n",
        "img, t = d_train[0]\n",
        "plt.imshow(img)"
      ],
      "metadata": {
        "colab": {
          "base_uri": "https://localhost:8080/",
          "height": 447
        },
        "id": "XINtbFPypij-",
        "outputId": "a10dcdd7-35d7-4222-dc28-766ef9b775f4"
      },
      "execution_count": 10,
      "outputs": [
        {
          "output_type": "execute_result",
          "data": {
            "text/plain": [
              "<matplotlib.image.AxesImage at 0x798cddfa6870>"
            ]
          },
          "metadata": {},
          "execution_count": 10
        },
        {
          "output_type": "display_data",
          "data": {
            "text/plain": [
              "<Figure size 640x480 with 1 Axes>"
            ],
            "image/png": "[encoded data removed]"
          },
          "metadata": {}
        }
      ]
    },
    {
      "cell_type": "code",
      "source": [
        "to_tensor = v2.ToImage()\n",
        "t = to_tensor(img)\n",
        "t"
      ],
      "metadata": {
        "colab": {
          "base_uri": "https://localhost:8080/"
        },
        "id": "opX7ixLhsM8z",
        "outputId": "9383e48d-89d5-4b72-c293-d2821efc86e3"
      },
      "execution_count": 11,
      "outputs": [
        {
          "output_type": "execute_result",
          "data": {
            "text/plain": [
              "Image([[[  0,   0,   0,   0,   0,   0,   0,   0,   0,   0,   0,   0,   0,   0,\n",
              "           0,   0,   0,   0,   0,   0,   0,   0,   0,   0,   0,   0,   0,   0],\n",
              "        [  0,   0,   0,   0,   0,   0,   0,   0,   0,   0,   0,   0,   0,   0,\n",
              "           0,   0,   0,   0,   0,   0,   0,   0,   0,   0,   0,   0,   0,   0],\n",
              "        [  0,   0,   0,   0,   0,   0,   0,   0,   0,   0,   0,   0,   0,   0,\n",
              "           0,   0,   0,   0,   0,   0,   0,   0,   0,   0,   0,   0,   0,   0],\n",
              "        [  0,   0,   0,   0,   0,   0,   0,   0,   0,   0,   0,   0,   0,   0,\n",
              "           0,   0,   0,   0,   0,   0,   0,   0,   0,   0,   0,   0,   0,   0],\n",
              "        [  0,   0,   0,   0,   0,   0,   0,   0,   0,   0,   0,   0,  57, 136,\n",
              "         255, 254, 177,  67,   5,   0,   0,   0,   0,   0,   0,   0,   0,   0],\n",
              "        [  0,   0,   0,   0,   0,   0,   0,   0,   0,   0,   0,  79, 235, 253,\n",
              "         253, 253, 253, 253, 116,   0,   0,   0,   0,   0,   0,   0,   0,   0],\n",
              "        [  0,   0,   0,   0,   0,   0,   0,   0,   0,  22, 198, 231, 253, 253,\n",
              "         253, 253, 253, 253, 241, 105,   0,   0,   0,   0,   0,   0,   0,   0],\n",
              "        [  0,   0,   0,   0,   0,   0,   0,   0,   0, 207, 253, 253, 253, 253,\n",
              "         253, 253, 253, 253, 219,  42,   0,   0,   0,   0,   0,   0,   0,   0],\n",
              "        [  0,   0,   0,   0,   0,   0,   0,   0,   0, 207, 253, 253, 253, 200,\n",
              "         112, 112, 169, 253, 253, 203,  42,   0,   0,   0,   0,   0,   0,   0],\n",
              "        [  0,   0,   0,   0,   0,   0,   0,   6, 125, 244, 253, 253,  75,  29,\n",
              "           0,   0, 104, 253, 253, 253,  74,   0,   0,   0,   0,   0,   0,   0],\n",
              "        [  0,   0,   0,   0,   0,   0,   0,  76, 253, 253, 253, 202,  24,   0,\n",
              "           0,   0,  70, 225, 253, 253, 133,   3,   0,   0,   0,   0,   0,   0],\n",
              "        [  0,   0,   0,   0,   0,   0,   0,  76, 253, 253, 253, 102,   0,   0,\n",
              "           0,   0,   0,  69, 242, 253, 253,   8,   0,   0,   0,   0,   0,   0],\n",
              "        [  0,   0,   0,   0,   0,   0,   9, 227, 253, 250, 161,  15,   0,   0,\n",
              "           0,   0,   0,   0, 236, 253, 253,   8,   0,   0,   0,   0,   0,   0],\n",
              "        [  0,   0,   0,   0,   0,   0,  80, 253, 253, 234,   0,   0,   0,   0,\n",
              "           0,   0,   0,   0, 236, 253, 253,   8,   0,   0,   0,   0,   0,   0],\n",
              "        [  0,   0,   0,   0,   0,   0, 198, 253, 253, 234,   0,   0,   0,   0,\n",
              "           0,   0,   0, 108, 246, 253, 253,   8,   0,   0,   0,   0,   0,   0],\n",
              "        [  0,   0,   0,   0,   0,   0, 170, 253, 253, 251, 163,  16,   0,   0,\n",
              "           0,   0,   0,  18, 237, 253, 253,   8,   0,   0,   0,   0,   0,   0],\n",
              "        [  0,   0,   0,   0,   0,   0,  10, 253, 253, 253, 253, 164,  15,   0,\n",
              "           0,   0,   0,   0, 236, 253, 253,   8,   0,   0,   0,   0,   0,   0],\n",
              "        [  0,   0,   0,   0,   0,   0,   4, 133, 253, 253, 253, 253,  36,   0,\n",
              "           0,   0,   0, 115, 247, 253, 253,   8,   0,   0,   0,   0,   0,   0],\n",
              "        [  0,   0,   0,   0,   0,   0,   0,  76, 253, 253, 253, 253, 238, 165,\n",
              "          18,   0,  97, 247, 253, 253, 253,   8,   0,   0,   0,   0,   0,   0],\n",
              "        [  0,   0,   0,   0,   0,   0,   0,  42, 203, 253, 253, 253, 253, 253,\n",
              "         164, 114, 170, 253, 253, 253, 253,   8,   0,   0,   0,   0,   0,   0],\n",
              "        [  0,   0,   0,   0,   0,   0,   0,   0,  42, 220, 253, 253, 253, 253,\n",
              "         253, 253, 253, 253, 253, 253, 126,   3,   0,   0,   0,   0,   0,   0],\n",
              "        [  0,   0,   0,   0,   0,   0,   0,   0,   0,  21, 215, 253, 253, 253,\n",
              "         253, 253, 253, 253, 242, 112,   3,   0,   0,   0,   0,   0,   0,   0],\n",
              "        [  0,   0,   0,   0,   0,   0,   0,   0,   0,   0,  44, 130, 235, 253,\n",
              "         253, 253, 253, 253, 205,   0,   0,   0,   0,   0,   0,   0,   0,   0],\n",
              "        [  0,   0,   0,   0,   0,   0,   0,   0,   0,   0,   0,   0,  56, 134,\n",
              "         253, 253, 253, 127,  53,   0,   0,   0,   0,   0,   0,   0,   0,   0],\n",
              "        [  0,   0,   0,   0,   0,   0,   0,   0,   0,   0,   0,   0,   0,   0,\n",
              "           0,   0,   0,   0,   0,   0,   0,   0,   0,   0,   0,   0,   0,   0],\n",
              "        [  0,   0,   0,   0,   0,   0,   0,   0,   0,   0,   0,   0,   0,   0,\n",
              "           0,   0,   0,   0,   0,   0,   0,   0,   0,   0,   0,   0,   0,   0],\n",
              "        [  0,   0,   0,   0,   0,   0,   0,   0,   0,   0,   0,   0,   0,   0,\n",
              "           0,   0,   0,   0,   0,   0,   0,   0,   0,   0,   0,   0,   0,   0],\n",
              "        [  0,   0,   0,   0,   0,   0,   0,   0,   0,   0,   0,   0,   0,   0,\n",
              "           0,   0,   0,   0,   0,   0,   0,   0,   0,   0,   0,   0,   0,   0]]],\n",
              "      dtype=torch.uint8, )"
            ]
          },
          "metadata": {},
          "execution_count": 11
        }
      ]
    },
    {
      "cell_type": "code",
      "source": [
        "t.shape"
      ],
      "metadata": {
        "colab": {
          "base_uri": "https://localhost:8080/"
        },
        "id": "UbTc1wKrtKdX",
        "outputId": "d199d700-eb29-460d-c434-d05ef375810c"
      },
      "execution_count": 12,
      "outputs": [
        {
          "output_type": "execute_result",
          "data": {
            "text/plain": [
              "torch.Size([1, 28, 28])"
            ]
          },
          "metadata": {},
          "execution_count": 12
        }
      ]
    },
    {
      "cell_type": "code",
      "source": [
        "t = to_tensor(img).ravel().float() / 255"
      ],
      "metadata": {
        "id": "ONi-qk5mtlnY"
      },
      "execution_count": 13,
      "outputs": []
    },
    {
      "cell_type": "code",
      "source": [
        "t"
      ],
      "metadata": {
        "colab": {
          "base_uri": "https://localhost:8080/"
        },
        "id": "mf6CWxEytvcn",
        "outputId": "cdff8c68-2293-4172-f806-30bbcda0e1e8"
      },
      "execution_count": 14,
      "outputs": [
        {
          "output_type": "execute_result",
          "data": {
            "text/plain": [
              "tensor([0.0000, 0.0000, 0.0000, 0.0000, 0.0000, 0.0000, 0.0000, 0.0000, 0.0000,\n",
              "        0.0000, 0.0000, 0.0000, 0.0000, 0.0000, 0.0000, 0.0000, 0.0000, 0.0000,\n",
              "        0.0000, 0.0000, 0.0000, 0.0000, 0.0000, 0.0000, 0.0000, 0.0000, 0.0000,\n",
              "        0.0000, 0.0000, 0.0000, 0.0000, 0.0000, 0.0000, 0.0000, 0.0000, 0.0000,\n",
              "        0.0000, 0.0000, 0.0000, 0.0000, 0.0000, 0.0000, 0.0000, 0.0000, 0.0000,\n",
              "        0.0000, 0.0000, 0.0000, 0.0000, 0.0000, 0.0000, 0.0000, 0.0000, 0.0000,\n",
              "        0.0000, 0.0000, 0.0000, 0.0000, 0.0000, 0.0000, 0.0000, 0.0000, 0.0000,\n",
              "        0.0000, 0.0000, 0.0000, 0.0000, 0.0000, 0.0000, 0.0000, 0.0000, 0.0000,\n",
              "        0.0000, 0.0000, 0.0000, 0.0000, 0.0000, 0.0000, 0.0000, 0.0000, 0.0000,\n",
              "        0.0000, 0.0000, 0.0000, 0.0000, 0.0000, 0.0000, 0.0000, 0.0000, 0.0000,\n",
              "        0.0000, 0.0000, 0.0000, 0.0000, 0.0000, 0.0000, 0.0000, 0.0000, 0.0000,\n",
              "        0.0000, 0.0000, 0.0000, 0.0000, 0.0000, 0.0000, 0.0000, 0.0000, 0.0000,\n",
              "        0.0000, 0.0000, 0.0000, 0.0000, 0.0000, 0.0000, 0.0000, 0.0000, 0.0000,\n",
              "        0.0000, 0.0000, 0.0000, 0.0000, 0.0000, 0.0000, 0.0000, 0.2235, 0.5333,\n",
              "        1.0000, 0.9961, 0.6941, 0.2627, 0.0196, 0.0000, 0.0000, 0.0000, 0.0000,\n",
              "        0.0000, 0.0000, 0.0000, 0.0000, 0.0000, 0.0000, 0.0000, 0.0000, 0.0000,\n",
              "        0.0000, 0.0000, 0.0000, 0.0000, 0.0000, 0.0000, 0.0000, 0.3098, 0.9216,\n",
              "        0.9922, 0.9922, 0.9922, 0.9922, 0.9922, 0.4549, 0.0000, 0.0000, 0.0000,\n",
              "        0.0000, 0.0000, 0.0000, 0.0000, 0.0000, 0.0000, 0.0000, 0.0000, 0.0000,\n",
              "        0.0000, 0.0000, 0.0000, 0.0000, 0.0000, 0.0000, 0.0863, 0.7765, 0.9059,\n",
              "        0.9922, 0.9922, 0.9922, 0.9922, 0.9922, 0.9922, 0.9451, 0.4118, 0.0000,\n",
              "        0.0000, 0.0000, 0.0000, 0.0000, 0.0000, 0.0000, 0.0000, 0.0000, 0.0000,\n",
              "        0.0000, 0.0000, 0.0000, 0.0000, 0.0000, 0.0000, 0.0000, 0.8118, 0.9922,\n",
              "        0.9922, 0.9922, 0.9922, 0.9922, 0.9922, 0.9922, 0.9922, 0.8588, 0.1647,\n",
              "        0.0000, 0.0000, 0.0000, 0.0000, 0.0000, 0.0000, 0.0000, 0.0000, 0.0000,\n",
              "        0.0000, 0.0000, 0.0000, 0.0000, 0.0000, 0.0000, 0.0000, 0.0000, 0.8118,\n",
              "        0.9922, 0.9922, 0.9922, 0.7843, 0.4392, 0.4392, 0.6627, 0.9922, 0.9922,\n",
              "        0.7961, 0.1647, 0.0000, 0.0000, 0.0000, 0.0000, 0.0000, 0.0000, 0.0000,\n",
              "        0.0000, 0.0000, 0.0000, 0.0000, 0.0000, 0.0000, 0.0000, 0.0235, 0.4902,\n",
              "        0.9569, 0.9922, 0.9922, 0.2941, 0.1137, 0.0000, 0.0000, 0.4078, 0.9922,\n",
              "        0.9922, 0.9922, 0.2902, 0.0000, 0.0000, 0.0000, 0.0000, 0.0000, 0.0000,\n",
              "        0.0000, 0.0000, 0.0000, 0.0000, 0.0000, 0.0000, 0.0000, 0.0000, 0.2980,\n",
              "        0.9922, 0.9922, 0.9922, 0.7922, 0.0941, 0.0000, 0.0000, 0.0000, 0.2745,\n",
              "        0.8824, 0.9922, 0.9922, 0.5216, 0.0118, 0.0000, 0.0000, 0.0000, 0.0000,\n",
              "        0.0000, 0.0000, 0.0000, 0.0000, 0.0000, 0.0000, 0.0000, 0.0000, 0.0000,\n",
              "        0.2980, 0.9922, 0.9922, 0.9922, 0.4000, 0.0000, 0.0000, 0.0000, 0.0000,\n",
              "        0.0000, 0.2706, 0.9490, 0.9922, 0.9922, 0.0314, 0.0000, 0.0000, 0.0000,\n",
              "        0.0000, 0.0000, 0.0000, 0.0000, 0.0000, 0.0000, 0.0000, 0.0000, 0.0000,\n",
              "        0.0353, 0.8902, 0.9922, 0.9804, 0.6314, 0.0588, 0.0000, 0.0000, 0.0000,\n",
              "        0.0000, 0.0000, 0.0000, 0.9255, 0.9922, 0.9922, 0.0314, 0.0000, 0.0000,\n",
              "        0.0000, 0.0000, 0.0000, 0.0000, 0.0000, 0.0000, 0.0000, 0.0000, 0.0000,\n",
              "        0.0000, 0.3137, 0.9922, 0.9922, 0.9176, 0.0000, 0.0000, 0.0000, 0.0000,\n",
              "        0.0000, 0.0000, 0.0000, 0.0000, 0.9255, 0.9922, 0.9922, 0.0314, 0.0000,\n",
              "        0.0000, 0.0000, 0.0000, 0.0000, 0.0000, 0.0000, 0.0000, 0.0000, 0.0000,\n",
              "        0.0000, 0.0000, 0.7765, 0.9922, 0.9922, 0.9176, 0.0000, 0.0000, 0.0000,\n",
              "        0.0000, 0.0000, 0.0000, 0.0000, 0.4235, 0.9647, 0.9922, 0.9922, 0.0314,\n",
              "        0.0000, 0.0000, 0.0000, 0.0000, 0.0000, 0.0000, 0.0000, 0.0000, 0.0000,\n",
              "        0.0000, 0.0000, 0.0000, 0.6667, 0.9922, 0.9922, 0.9843, 0.6392, 0.0627,\n",
              "        0.0000, 0.0000, 0.0000, 0.0000, 0.0000, 0.0706, 0.9294, 0.9922, 0.9922,\n",
              "        0.0314, 0.0000, 0.0000, 0.0000, 0.0000, 0.0000, 0.0000, 0.0000, 0.0000,\n",
              "        0.0000, 0.0000, 0.0000, 0.0000, 0.0392, 0.9922, 0.9922, 0.9922, 0.9922,\n",
              "        0.6431, 0.0588, 0.0000, 0.0000, 0.0000, 0.0000, 0.0000, 0.9255, 0.9922,\n",
              "        0.9922, 0.0314, 0.0000, 0.0000, 0.0000, 0.0000, 0.0000, 0.0000, 0.0000,\n",
              "        0.0000, 0.0000, 0.0000, 0.0000, 0.0000, 0.0157, 0.5216, 0.9922, 0.9922,\n",
              "        0.9922, 0.9922, 0.1412, 0.0000, 0.0000, 0.0000, 0.0000, 0.4510, 0.9686,\n",
              "        0.9922, 0.9922, 0.0314, 0.0000, 0.0000, 0.0000, 0.0000, 0.0000, 0.0000,\n",
              "        0.0000, 0.0000, 0.0000, 0.0000, 0.0000, 0.0000, 0.0000, 0.2980, 0.9922,\n",
              "        0.9922, 0.9922, 0.9922, 0.9333, 0.6471, 0.0706, 0.0000, 0.3804, 0.9686,\n",
              "        0.9922, 0.9922, 0.9922, 0.0314, 0.0000, 0.0000, 0.0000, 0.0000, 0.0000,\n",
              "        0.0000, 0.0000, 0.0000, 0.0000, 0.0000, 0.0000, 0.0000, 0.0000, 0.1647,\n",
              "        0.7961, 0.9922, 0.9922, 0.9922, 0.9922, 0.9922, 0.6431, 0.4471, 0.6667,\n",
              "        0.9922, 0.9922, 0.9922, 0.9922, 0.0314, 0.0000, 0.0000, 0.0000, 0.0000,\n",
              "        0.0000, 0.0000, 0.0000, 0.0000, 0.0000, 0.0000, 0.0000, 0.0000, 0.0000,\n",
              "        0.0000, 0.1647, 0.8627, 0.9922, 0.9922, 0.9922, 0.9922, 0.9922, 0.9922,\n",
              "        0.9922, 0.9922, 0.9922, 0.9922, 0.4941, 0.0118, 0.0000, 0.0000, 0.0000,\n",
              "        0.0000, 0.0000, 0.0000, 0.0000, 0.0000, 0.0000, 0.0000, 0.0000, 0.0000,\n",
              "        0.0000, 0.0000, 0.0000, 0.0824, 0.8431, 0.9922, 0.9922, 0.9922, 0.9922,\n",
              "        0.9922, 0.9922, 0.9922, 0.9490, 0.4392, 0.0118, 0.0000, 0.0000, 0.0000,\n",
              "        0.0000, 0.0000, 0.0000, 0.0000, 0.0000, 0.0000, 0.0000, 0.0000, 0.0000,\n",
              "        0.0000, 0.0000, 0.0000, 0.0000, 0.0000, 0.1725, 0.5098, 0.9216, 0.9922,\n",
              "        0.9922, 0.9922, 0.9922, 0.9922, 0.8039, 0.0000, 0.0000, 0.0000, 0.0000,\n",
              "        0.0000, 0.0000, 0.0000, 0.0000, 0.0000, 0.0000, 0.0000, 0.0000, 0.0000,\n",
              "        0.0000, 0.0000, 0.0000, 0.0000, 0.0000, 0.0000, 0.0000, 0.0000, 0.2196,\n",
              "        0.5255, 0.9922, 0.9922, 0.9922, 0.4980, 0.2078, 0.0000, 0.0000, 0.0000,\n",
              "        0.0000, 0.0000, 0.0000, 0.0000, 0.0000, 0.0000, 0.0000, 0.0000, 0.0000,\n",
              "        0.0000, 0.0000, 0.0000, 0.0000, 0.0000, 0.0000, 0.0000, 0.0000, 0.0000,\n",
              "        0.0000, 0.0000, 0.0000, 0.0000, 0.0000, 0.0000, 0.0000, 0.0000, 0.0000,\n",
              "        0.0000, 0.0000, 0.0000, 0.0000, 0.0000, 0.0000, 0.0000, 0.0000, 0.0000,\n",
              "        0.0000, 0.0000, 0.0000, 0.0000, 0.0000, 0.0000, 0.0000, 0.0000, 0.0000,\n",
              "        0.0000, 0.0000, 0.0000, 0.0000, 0.0000, 0.0000, 0.0000, 0.0000, 0.0000,\n",
              "        0.0000, 0.0000, 0.0000, 0.0000, 0.0000, 0.0000, 0.0000, 0.0000, 0.0000,\n",
              "        0.0000, 0.0000, 0.0000, 0.0000, 0.0000, 0.0000, 0.0000, 0.0000, 0.0000,\n",
              "        0.0000, 0.0000, 0.0000, 0.0000, 0.0000, 0.0000, 0.0000, 0.0000, 0.0000,\n",
              "        0.0000, 0.0000, 0.0000, 0.0000, 0.0000, 0.0000, 0.0000, 0.0000, 0.0000,\n",
              "        0.0000, 0.0000, 0.0000, 0.0000, 0.0000, 0.0000, 0.0000, 0.0000, 0.0000,\n",
              "        0.0000, 0.0000, 0.0000, 0.0000, 0.0000, 0.0000, 0.0000, 0.0000, 0.0000,\n",
              "        0.0000, 0.0000, 0.0000, 0.0000, 0.0000, 0.0000, 0.0000, 0.0000, 0.0000,\n",
              "        0.0000])"
            ]
          },
          "metadata": {},
          "execution_count": 14
        }
      ]
    },
    {
      "cell_type": "code",
      "source": [
        "len(d_train), len(d_test)"
      ],
      "metadata": {
        "colab": {
          "base_uri": "https://localhost:8080/"
        },
        "id": "cL6NTfOMplJx",
        "outputId": "d4879954-3311-4aa5-a0d3-67622562c251"
      },
      "execution_count": 15,
      "outputs": [
        {
          "output_type": "execute_result",
          "data": {
            "text/plain": [
              "(60000, 10000)"
            ]
          },
          "metadata": {},
          "execution_count": 15
        }
      ]
    },
    {
      "cell_type": "markdown",
      "source": [
        "### test with transform"
      ],
      "metadata": {
        "id": "O0GYS2oqvgMp"
      }
    },
    {
      "cell_type": "code",
      "source": [
        "d_train = DigitDataset('dataset', transform=transform)\n",
        "d_test = DigitDataset('dataset', train=False, transform=transform)"
      ],
      "metadata": {
        "id": "jO0n1D6Z7a5x"
      },
      "execution_count": 16,
      "outputs": []
    },
    {
      "cell_type": "code",
      "source": [
        "t = iter(d_train)"
      ],
      "metadata": {
        "id": "0Z5eNbddvlSR"
      },
      "execution_count": 17,
      "outputs": []
    },
    {
      "cell_type": "code",
      "source": [
        "x, y = next(t)"
      ],
      "metadata": {
        "id": "QiKkkGvOv2Vj"
      },
      "execution_count": 18,
      "outputs": []
    },
    {
      "cell_type": "code",
      "source": [
        "x.size()"
      ],
      "metadata": {
        "colab": {
          "base_uri": "https://localhost:8080/"
        },
        "id": "_TB1HY_SwBe_",
        "outputId": "9b72ca83-5f76-463a-d62f-4a2d2e6f42a0"
      },
      "execution_count": 19,
      "outputs": [
        {
          "output_type": "execute_result",
          "data": {
            "text/plain": [
              "torch.Size([784])"
            ]
          },
          "metadata": {},
          "execution_count": 19
        }
      ]
    },
    {
      "cell_type": "code",
      "source": [
        "x, y"
      ],
      "metadata": {
        "colab": {
          "base_uri": "https://localhost:8080/"
        },
        "id": "x7RujPyuwnk7",
        "outputId": "1e813e0c-0bf8-47db-db12-66d158f56b20"
      },
      "execution_count": 20,
      "outputs": [
        {
          "output_type": "execute_result",
          "data": {
            "text/plain": [
              "(tensor([0.0000, 0.0000, 0.0000, 0.0000, 0.0000, 0.0000, 0.0000, 0.0000, 0.0000,\n",
              "         0.0000, 0.0000, 0.0000, 0.0000, 0.0000, 0.0000, 0.0000, 0.0000, 0.0000,\n",
              "         0.0000, 0.0000, 0.0000, 0.0000, 0.0000, 0.0000, 0.0000, 0.0000, 0.0000,\n",
              "         0.0000, 0.0000, 0.0000, 0.0000, 0.0000, 0.0000, 0.0000, 0.0000, 0.0000,\n",
              "         0.0000, 0.0000, 0.0000, 0.0000, 0.0000, 0.0000, 0.0000, 0.0000, 0.0000,\n",
              "         0.0000, 0.0000, 0.0000, 0.0000, 0.0000, 0.0000, 0.0000, 0.0000, 0.0000,\n",
              "         0.0000, 0.0000, 0.0000, 0.0000, 0.0000, 0.0000, 0.0000, 0.0000, 0.0000,\n",
              "         0.0000, 0.0000, 0.0000, 0.0000, 0.0000, 0.0000, 0.0000, 0.0000, 0.0000,\n",
              "         0.0000, 0.0000, 0.0000, 0.0000, 0.0000, 0.0000, 0.0000, 0.0000, 0.0000,\n",
              "         0.0000, 0.0000, 0.0000, 0.0000, 0.0000, 0.0000, 0.0000, 0.0000, 0.0000,\n",
              "         0.0000, 0.0000, 0.0000, 0.0000, 0.0000, 0.0000, 0.0000, 0.0000, 0.0000,\n",
              "         0.0000, 0.0000, 0.0000, 0.0000, 0.0000, 0.0000, 0.0000, 0.0000, 0.0000,\n",
              "         0.0000, 0.0000, 0.0000, 0.0000, 0.0000, 0.0000, 0.0000, 0.0000, 0.0000,\n",
              "         0.0000, 0.0000, 0.0000, 0.0000, 0.0000, 0.0000, 0.0000, 0.2235, 0.5333,\n",
              "         1.0000, 0.9961, 0.6941, 0.2627, 0.0196, 0.0000, 0.0000, 0.0000, 0.0000,\n",
              "         0.0000, 0.0000, 0.0000, 0.0000, 0.0000, 0.0000, 0.0000, 0.0000, 0.0000,\n",
              "         0.0000, 0.0000, 0.0000, 0.0000, 0.0000, 0.0000, 0.0000, 0.3098, 0.9216,\n",
              "         0.9922, 0.9922, 0.9922, 0.9922, 0.9922, 0.4549, 0.0000, 0.0000, 0.0000,\n",
              "         0.0000, 0.0000, 0.0000, 0.0000, 0.0000, 0.0000, 0.0000, 0.0000, 0.0000,\n",
              "         0.0000, 0.0000, 0.0000, 0.0000, 0.0000, 0.0000, 0.0863, 0.7765, 0.9059,\n",
              "         0.9922, 0.9922, 0.9922, 0.9922, 0.9922, 0.9922, 0.9451, 0.4118, 0.0000,\n",
              "         0.0000, 0.0000, 0.0000, 0.0000, 0.0000, 0.0000, 0.0000, 0.0000, 0.0000,\n",
              "         0.0000, 0.0000, 0.0000, 0.0000, 0.0000, 0.0000, 0.0000, 0.8118, 0.9922,\n",
              "         0.9922, 0.9922, 0.9922, 0.9922, 0.9922, 0.9922, 0.9922, 0.8588, 0.1647,\n",
              "         0.0000, 0.0000, 0.0000, 0.0000, 0.0000, 0.0000, 0.0000, 0.0000, 0.0000,\n",
              "         0.0000, 0.0000, 0.0000, 0.0000, 0.0000, 0.0000, 0.0000, 0.0000, 0.8118,\n",
              "         0.9922, 0.9922, 0.9922, 0.7843, 0.4392, 0.4392, 0.6627, 0.9922, 0.9922,\n",
              "         0.7961, 0.1647, 0.0000, 0.0000, 0.0000, 0.0000, 0.0000, 0.0000, 0.0000,\n",
              "         0.0000, 0.0000, 0.0000, 0.0000, 0.0000, 0.0000, 0.0000, 0.0235, 0.4902,\n",
              "         0.9569, 0.9922, 0.9922, 0.2941, 0.1137, 0.0000, 0.0000, 0.4078, 0.9922,\n",
              "         0.9922, 0.9922, 0.2902, 0.0000, 0.0000, 0.0000, 0.0000, 0.0000, 0.0000,\n",
              "         0.0000, 0.0000, 0.0000, 0.0000, 0.0000, 0.0000, 0.0000, 0.0000, 0.2980,\n",
              "         0.9922, 0.9922, 0.9922, 0.7922, 0.0941, 0.0000, 0.0000, 0.0000, 0.2745,\n",
              "         0.8824, 0.9922, 0.9922, 0.5216, 0.0118, 0.0000, 0.0000, 0.0000, 0.0000,\n",
              "         0.0000, 0.0000, 0.0000, 0.0000, 0.0000, 0.0000, 0.0000, 0.0000, 0.0000,\n",
              "         0.2980, 0.9922, 0.9922, 0.9922, 0.4000, 0.0000, 0.0000, 0.0000, 0.0000,\n",
              "         0.0000, 0.2706, 0.9490, 0.9922, 0.9922, 0.0314, 0.0000, 0.0000, 0.0000,\n",
              "         0.0000, 0.0000, 0.0000, 0.0000, 0.0000, 0.0000, 0.0000, 0.0000, 0.0000,\n",
              "         0.0353, 0.8902, 0.9922, 0.9804, 0.6314, 0.0588, 0.0000, 0.0000, 0.0000,\n",
              "         0.0000, 0.0000, 0.0000, 0.9255, 0.9922, 0.9922, 0.0314, 0.0000, 0.0000,\n",
              "         0.0000, 0.0000, 0.0000, 0.0000, 0.0000, 0.0000, 0.0000, 0.0000, 0.0000,\n",
              "         0.0000, 0.3137, 0.9922, 0.9922, 0.9176, 0.0000, 0.0000, 0.0000, 0.0000,\n",
              "         0.0000, 0.0000, 0.0000, 0.0000, 0.9255, 0.9922, 0.9922, 0.0314, 0.0000,\n",
              "         0.0000, 0.0000, 0.0000, 0.0000, 0.0000, 0.0000, 0.0000, 0.0000, 0.0000,\n",
              "         0.0000, 0.0000, 0.7765, 0.9922, 0.9922, 0.9176, 0.0000, 0.0000, 0.0000,\n",
              "         0.0000, 0.0000, 0.0000, 0.0000, 0.4235, 0.9647, 0.9922, 0.9922, 0.0314,\n",
              "         0.0000, 0.0000, 0.0000, 0.0000, 0.0000, 0.0000, 0.0000, 0.0000, 0.0000,\n",
              "         0.0000, 0.0000, 0.0000, 0.6667, 0.9922, 0.9922, 0.9843, 0.6392, 0.0627,\n",
              "         0.0000, 0.0000, 0.0000, 0.0000, 0.0000, 0.0706, 0.9294, 0.9922, 0.9922,\n",
              "         0.0314, 0.0000, 0.0000, 0.0000, 0.0000, 0.0000, 0.0000, 0.0000, 0.0000,\n",
              "         0.0000, 0.0000, 0.0000, 0.0000, 0.0392, 0.9922, 0.9922, 0.9922, 0.9922,\n",
              "         0.6431, 0.0588, 0.0000, 0.0000, 0.0000, 0.0000, 0.0000, 0.9255, 0.9922,\n",
              "         0.9922, 0.0314, 0.0000, 0.0000, 0.0000, 0.0000, 0.0000, 0.0000, 0.0000,\n",
              "         0.0000, 0.0000, 0.0000, 0.0000, 0.0000, 0.0157, 0.5216, 0.9922, 0.9922,\n",
              "         0.9922, 0.9922, 0.1412, 0.0000, 0.0000, 0.0000, 0.0000, 0.4510, 0.9686,\n",
              "         0.9922, 0.9922, 0.0314, 0.0000, 0.0000, 0.0000, 0.0000, 0.0000, 0.0000,\n",
              "         0.0000, 0.0000, 0.0000, 0.0000, 0.0000, 0.0000, 0.0000, 0.2980, 0.9922,\n",
              "         0.9922, 0.9922, 0.9922, 0.9333, 0.6471, 0.0706, 0.0000, 0.3804, 0.9686,\n",
              "         0.9922, 0.9922, 0.9922, 0.0314, 0.0000, 0.0000, 0.0000, 0.0000, 0.0000,\n",
              "         0.0000, 0.0000, 0.0000, 0.0000, 0.0000, 0.0000, 0.0000, 0.0000, 0.1647,\n",
              "         0.7961, 0.9922, 0.9922, 0.9922, 0.9922, 0.9922, 0.6431, 0.4471, 0.6667,\n",
              "         0.9922, 0.9922, 0.9922, 0.9922, 0.0314, 0.0000, 0.0000, 0.0000, 0.0000,\n",
              "         0.0000, 0.0000, 0.0000, 0.0000, 0.0000, 0.0000, 0.0000, 0.0000, 0.0000,\n",
              "         0.0000, 0.1647, 0.8627, 0.9922, 0.9922, 0.9922, 0.9922, 0.9922, 0.9922,\n",
              "         0.9922, 0.9922, 0.9922, 0.9922, 0.4941, 0.0118, 0.0000, 0.0000, 0.0000,\n",
              "         0.0000, 0.0000, 0.0000, 0.0000, 0.0000, 0.0000, 0.0000, 0.0000, 0.0000,\n",
              "         0.0000, 0.0000, 0.0000, 0.0824, 0.8431, 0.9922, 0.9922, 0.9922, 0.9922,\n",
              "         0.9922, 0.9922, 0.9922, 0.9490, 0.4392, 0.0118, 0.0000, 0.0000, 0.0000,\n",
              "         0.0000, 0.0000, 0.0000, 0.0000, 0.0000, 0.0000, 0.0000, 0.0000, 0.0000,\n",
              "         0.0000, 0.0000, 0.0000, 0.0000, 0.0000, 0.1725, 0.5098, 0.9216, 0.9922,\n",
              "         0.9922, 0.9922, 0.9922, 0.9922, 0.8039, 0.0000, 0.0000, 0.0000, 0.0000,\n",
              "         0.0000, 0.0000, 0.0000, 0.0000, 0.0000, 0.0000, 0.0000, 0.0000, 0.0000,\n",
              "         0.0000, 0.0000, 0.0000, 0.0000, 0.0000, 0.0000, 0.0000, 0.0000, 0.2196,\n",
              "         0.5255, 0.9922, 0.9922, 0.9922, 0.4980, 0.2078, 0.0000, 0.0000, 0.0000,\n",
              "         0.0000, 0.0000, 0.0000, 0.0000, 0.0000, 0.0000, 0.0000, 0.0000, 0.0000,\n",
              "         0.0000, 0.0000, 0.0000, 0.0000, 0.0000, 0.0000, 0.0000, 0.0000, 0.0000,\n",
              "         0.0000, 0.0000, 0.0000, 0.0000, 0.0000, 0.0000, 0.0000, 0.0000, 0.0000,\n",
              "         0.0000, 0.0000, 0.0000, 0.0000, 0.0000, 0.0000, 0.0000, 0.0000, 0.0000,\n",
              "         0.0000, 0.0000, 0.0000, 0.0000, 0.0000, 0.0000, 0.0000, 0.0000, 0.0000,\n",
              "         0.0000, 0.0000, 0.0000, 0.0000, 0.0000, 0.0000, 0.0000, 0.0000, 0.0000,\n",
              "         0.0000, 0.0000, 0.0000, 0.0000, 0.0000, 0.0000, 0.0000, 0.0000, 0.0000,\n",
              "         0.0000, 0.0000, 0.0000, 0.0000, 0.0000, 0.0000, 0.0000, 0.0000, 0.0000,\n",
              "         0.0000, 0.0000, 0.0000, 0.0000, 0.0000, 0.0000, 0.0000, 0.0000, 0.0000,\n",
              "         0.0000, 0.0000, 0.0000, 0.0000, 0.0000, 0.0000, 0.0000, 0.0000, 0.0000,\n",
              "         0.0000, 0.0000, 0.0000, 0.0000, 0.0000, 0.0000, 0.0000, 0.0000, 0.0000,\n",
              "         0.0000, 0.0000, 0.0000, 0.0000, 0.0000, 0.0000, 0.0000, 0.0000, 0.0000,\n",
              "         0.0000, 0.0000, 0.0000, 0.0000, 0.0000, 0.0000, 0.0000, 0.0000, 0.0000,\n",
              "         0.0000]),\n",
              " tensor([1., 0., 0., 0., 0., 0., 0., 0., 0., 0.]))"
            ]
          },
          "metadata": {},
          "execution_count": 20
        }
      ]
    },
    {
      "cell_type": "markdown",
      "source": [
        "## Dataloader"
      ],
      "metadata": {
        "id": "FVD2hP-Mq5Z0"
      }
    },
    {
      "cell_type": "code",
      "source": [
        "batch_size = 100\n",
        "\n",
        "train_loader = data.DataLoader(d_train, batch_size=batch_size, shuffle=True)\n",
        "test_loader = data.DataLoader(d_test, batch_size=batch_size, shuffle=False)"
      ],
      "metadata": {
        "id": "bIyq0U7Aq0p7"
      },
      "execution_count": 21,
      "outputs": []
    },
    {
      "cell_type": "code",
      "source": [
        "len(train_loader), len(d_train)"
      ],
      "metadata": {
        "colab": {
          "base_uri": "https://localhost:8080/"
        },
        "id": "aCuPZi4-Fh1Y",
        "outputId": "c5c850bd-beb1-4f0a-e9fd-ee0a11ece7d0"
      },
      "execution_count": 22,
      "outputs": [
        {
          "output_type": "execute_result",
          "data": {
            "text/plain": [
              "(600, 60000)"
            ]
          },
          "metadata": {},
          "execution_count": 22
        }
      ]
    },
    {
      "cell_type": "markdown",
      "source": [
        "## Class NN"
      ],
      "metadata": {
        "id": "BnvHIkdg_kNK"
      }
    },
    {
      "cell_type": "code",
      "source": [
        "class NN_mnist(nn.Module):\n",
        "  def __init__(self, input_dim, num_hidden, output_dim):\n",
        "    super().__init__()\n",
        "    self.layer1 = nn.Linear(input_dim, num_hidden)\n",
        "    self.layer2 = nn.Linear(num_hidden, output_dim)\n",
        "\n",
        "  def forward(self, x):\n",
        "    x = self.layer1(x)\n",
        "    x = nn.functional.relu(x)\n",
        "    x = self.layer2(x)\n",
        "\n",
        "    return x"
      ],
      "metadata": {
        "id": "jLwwgpM5_jPJ"
      },
      "execution_count": 23,
      "outputs": []
    },
    {
      "cell_type": "code",
      "source": [
        "model = NN_mnist(28*28, 32, 10)"
      ],
      "metadata": {
        "id": "gEaG2nZrBTd-"
      },
      "execution_count": 24,
      "outputs": []
    },
    {
      "cell_type": "markdown",
      "source": [
        "## Train"
      ],
      "metadata": {
        "id": "q0i4vX4EBLVX"
      }
    },
    {
      "cell_type": "code",
      "source": [
        "optimizer = optim.Adam(params=model.parameters(), lr=0.01)\n",
        "loss_f = nn.CrossEntropyLoss()\n",
        "\n",
        "epochs= 5"
      ],
      "metadata": {
        "id": "-jvI6GfOBPKT"
      },
      "execution_count": 25,
      "outputs": []
    },
    {
      "cell_type": "code",
      "source": [
        "model.train()\n",
        "\n",
        "for _ in range(epochs):\n",
        "  for x_train, y_train in train_loader:\n",
        "    output = model(x_train)\n",
        "    loss = loss_f(output, y_train)\n",
        "\n",
        "    optimizer.zero_grad()\n",
        "    loss.backward()\n",
        "    optimizer.step()"
      ],
      "metadata": {
        "id": "g0RKCXOFCBpg"
      },
      "execution_count": 26,
      "outputs": []
    },
    {
      "cell_type": "markdown",
      "source": [
        "## Test"
      ],
      "metadata": {
        "id": "bcWsowa-G3TR"
      }
    },
    {
      "cell_type": "code",
      "source": [
        "model.eval()\n",
        "Q=0\n",
        "\n",
        "for x_train, y_train in test_loader:\n",
        "  with torch.no_grad():\n",
        "    output = model(x_train)\n",
        "\n",
        "    output = torch.argmax(output, dim=1)\n",
        "    y = torch.argmax(y_train, dim=1)\n",
        "\n",
        "    Q += torch.sum(output==y).item()\n",
        "\n",
        "print(Q / len(d_test))"
      ],
      "metadata": {
        "colab": {
          "base_uri": "https://localhost:8080/"
        },
        "id": "KhjMPehmCoZi",
        "outputId": "5444e3ab-b19e-4986-aa5a-a84cb9308704"
      },
      "execution_count": 27,
      "outputs": [
        {
          "output_type": "stream",
          "name": "stdout",
          "text": [
            "0.961\n"
          ]
        }
      ]
    }
  ]
}