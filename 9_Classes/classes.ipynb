{
  "nbformat": 4,
  "nbformat_minor": 0,
  "metadata": {
    "colab": {
      "provenance": [],
      "gpuType": "T4"
    },
    "kernelspec": {
      "name": "python3",
      "display_name": "Python 3"
    },
    "language_info": {
      "name": "python"
    },
    "accelerator": "GPU"
  },
  "cells": [
    {
      "cell_type": "markdown",
      "source": [
        "## import libraries"
      ],
      "metadata": {
        "id": "ll6heym6iMLS"
      }
    },
    {
      "cell_type": "code",
      "execution_count": 1,
      "metadata": {
        "id": "tZi4UjEhWr_5"
      },
      "outputs": [],
      "source": [
        "import torch\n",
        "import torch.utils.data as data\n",
        "import torchvision.transforms.v2 as v2\n",
        "import torchvision\n",
        "import torch.nn as nn\n",
        "import torch.optim as optim"
      ]
    },
    {
      "cell_type": "markdown",
      "source": [
        "## Sequential"
      ],
      "metadata": {
        "id": "gjrluEkkZKT-"
      }
    },
    {
      "cell_type": "code",
      "source": [
        "model = nn.Sequential(\n",
        "    nn.Linear(28*28, 32),\n",
        "    nn.ReLU(),\n",
        "    nn.Linear(32, 10)\n",
        ")"
      ],
      "metadata": {
        "id": "pn_CD8iEXI9z"
      },
      "execution_count": 2,
      "outputs": []
    },
    {
      "cell_type": "code",
      "source": [
        "print(model)"
      ],
      "metadata": {
        "colab": {
          "base_uri": "https://localhost:8080/"
        },
        "id": "zYK5Xc7jXZcg",
        "outputId": "015b2332-b488-4a5c-cb8c-bede60c5da84"
      },
      "execution_count": 3,
      "outputs": [
        {
          "output_type": "stream",
          "name": "stdout",
          "text": [
            "Sequential(\n",
            "  (0): Linear(in_features=784, out_features=32, bias=True)\n",
            "  (1): ReLU()\n",
            "  (2): Linear(in_features=32, out_features=10, bias=True)\n",
            ")\n"
          ]
        }
      ]
    },
    {
      "cell_type": "code",
      "source": [
        "model = nn.Sequential()\n",
        "model.add_module('layer 1', nn.Linear(28*28, 32))\n",
        "model.add_module('ReLU 1', nn.ReLU())"
      ],
      "metadata": {
        "id": "UZPmhiQcXhbw"
      },
      "execution_count": 4,
      "outputs": []
    },
    {
      "cell_type": "code",
      "source": [
        "print(model)"
      ],
      "metadata": {
        "colab": {
          "base_uri": "https://localhost:8080/"
        },
        "id": "VR4plmdQYM8t",
        "outputId": "e62e4767-df8e-44f7-a9b2-55f34278d0ac"
      },
      "execution_count": 5,
      "outputs": [
        {
          "output_type": "stream",
          "name": "stdout",
          "text": [
            "Sequential(\n",
            "  (layer 1): Linear(in_features=784, out_features=32, bias=True)\n",
            "  (ReLU 1): ReLU()\n",
            ")\n"
          ]
        }
      ]
    },
    {
      "cell_type": "code",
      "source": [
        "block = nn.Sequential(\n",
        "    nn.Linear(32, 32),\n",
        "    nn.LeakyReLU(),\n",
        "    nn.Linear(32, 10),\n",
        "    nn.LeakyReLU()\n",
        ")"
      ],
      "metadata": {
        "id": "0idQoiNPYOJV"
      },
      "execution_count": 6,
      "outputs": []
    },
    {
      "cell_type": "code",
      "source": [
        "model.add_module('block', block)\n",
        "model"
      ],
      "metadata": {
        "colab": {
          "base_uri": "https://localhost:8080/"
        },
        "id": "VvZtYv9kYz30",
        "outputId": "ed5e7723-d3ab-425c-da04-78e4ac6447c8"
      },
      "execution_count": 7,
      "outputs": [
        {
          "output_type": "execute_result",
          "data": {
            "text/plain": [
              "Sequential(\n",
              "  (layer 1): Linear(in_features=784, out_features=32, bias=True)\n",
              "  (ReLU 1): ReLU()\n",
              "  (block): Sequential(\n",
              "    (0): Linear(in_features=32, out_features=32, bias=True)\n",
              "    (1): LeakyReLU(negative_slope=0.01)\n",
              "    (2): Linear(in_features=32, out_features=10, bias=True)\n",
              "    (3): LeakyReLU(negative_slope=0.01)\n",
              "  )\n",
              ")"
            ]
          },
          "metadata": {},
          "execution_count": 7
        }
      ]
    },
    {
      "cell_type": "markdown",
      "source": [
        "## ModelList"
      ],
      "metadata": {
        "id": "Kz1v5I1QZOPP"
      }
    },
    {
      "cell_type": "markdown",
      "source": [
        "### problem"
      ],
      "metadata": {
        "id": "Wne903jYfGQN"
      }
    },
    {
      "cell_type": "code",
      "source": [
        "class ModelNN(nn.Module):\n",
        "  def __init__(self,input_dim, output_dim, n_layer=3):\n",
        "    super().__init__()\n",
        "    self.layers = [nn.Linear(input_dim//n, input_dim//(n+1)) for n in range(1, n_layer+1)]\n",
        "\n",
        "    sz_input = self.layers[-1].out_features\n",
        "    self.layer_out = nn.Linear(sz_input, output_dim)\n",
        "\n",
        "  def forward(self, x):\n",
        "    for layer in self.layers:\n",
        "      x = layer(x)\n",
        "      x = nn.functional.tanh(x)\n",
        "\n",
        "    x = self.layer_out(x)\n",
        "    return x"
      ],
      "metadata": {
        "id": "Qkb8umX0ZDM5"
      },
      "execution_count": 8,
      "outputs": []
    },
    {
      "cell_type": "code",
      "source": [
        "model = ModelNN(28*28, 10)"
      ],
      "metadata": {
        "id": "8LrjqChYdpiX"
      },
      "execution_count": 9,
      "outputs": []
    },
    {
      "cell_type": "code",
      "source": [
        "model"
      ],
      "metadata": {
        "colab": {
          "base_uri": "https://localhost:8080/"
        },
        "id": "vN8bFge2d2jI",
        "outputId": "e3d6a4ed-1600-412e-e0ed-bba7ff701e41"
      },
      "execution_count": 10,
      "outputs": [
        {
          "output_type": "execute_result",
          "data": {
            "text/plain": [
              "ModelNN(\n",
              "  (layer_out): Linear(in_features=196, out_features=10, bias=True)\n",
              ")"
            ]
          },
          "metadata": {},
          "execution_count": 10
        }
      ]
    },
    {
      "cell_type": "code",
      "source": [
        "list(model.parameters()) # !"
      ],
      "metadata": {
        "colab": {
          "base_uri": "https://localhost:8080/"
        },
        "id": "d8jCRMXfdtf7",
        "outputId": "476c57a4-113b-4215-d78d-ea70b4700662"
      },
      "execution_count": 11,
      "outputs": [
        {
          "output_type": "execute_result",
          "data": {
            "text/plain": [
              "[Parameter containing:\n",
              " tensor([[ 0.0677, -0.0036,  0.0183,  ..., -0.0072, -0.0323, -0.0365],\n",
              "         [-0.0156, -0.0366, -0.0242,  ...,  0.0448, -0.0553,  0.0044],\n",
              "         [-0.0412, -0.0241,  0.0242,  ..., -0.0583, -0.0681, -0.0250],\n",
              "         ...,\n",
              "         [-0.0065,  0.0295,  0.0674,  ..., -0.0065, -0.0393,  0.0314],\n",
              "         [ 0.0254, -0.0193, -0.0565,  ...,  0.0407, -0.0267, -0.0668],\n",
              "         [-0.0672, -0.0547, -0.0223,  ...,  0.0259, -0.0029, -0.0706]],\n",
              "        requires_grad=True),\n",
              " Parameter containing:\n",
              " tensor([ 0.0101, -0.0212, -0.0221, -0.0480, -0.0078,  0.0377, -0.0520,  0.0093,\n",
              "         -0.0082, -0.0230], requires_grad=True)]"
            ]
          },
          "metadata": {},
          "execution_count": 11
        }
      ]
    },
    {
      "cell_type": "markdown",
      "source": [
        "### solution"
      ],
      "metadata": {
        "id": "7EcBoXUyfJ6C"
      }
    },
    {
      "cell_type": "code",
      "source": [
        "class ModelNN(nn.Module):\n",
        "  def __init__(self,input_dim, output_dim, n_layer=3):\n",
        "    super().__init__()\n",
        "    self.layers = nn.ModuleList(\n",
        "        [nn.Linear(input_dim//n, input_dim//(n+1)) for n in range(1, n_layer+1)]\n",
        "    )\n",
        "    #self.layers = [nn.Linear(input_dim//n, input_dim//(n+1)) for n in range(1, n_layer+1)]\n",
        "    #self.layers = nn.Sequential(self.layers)\n",
        "\n",
        "    sz_input = self.layers[-1].out_features\n",
        "    self.layer_out = nn.Linear(sz_input, output_dim)\n",
        "\n",
        "  def forward(self, x):\n",
        "    for layer in self.layers:\n",
        "      x = layer(x)\n",
        "      x = nn.functional.tanh(x)\n",
        "\n",
        "    x = self.layer_out(x)\n",
        "    return x"
      ],
      "metadata": {
        "id": "Ux83mKAvdz1n"
      },
      "execution_count": 12,
      "outputs": []
    },
    {
      "cell_type": "code",
      "source": [
        "model = ModelNN(28*28, 10)"
      ],
      "metadata": {
        "id": "FE46jBnNePXv"
      },
      "execution_count": 13,
      "outputs": []
    },
    {
      "cell_type": "code",
      "source": [
        "model"
      ],
      "metadata": {
        "colab": {
          "base_uri": "https://localhost:8080/"
        },
        "id": "jdz-vc7KeSCe",
        "outputId": "b2936dae-bd49-4dbf-e74c-b1f8454dfc65"
      },
      "execution_count": 14,
      "outputs": [
        {
          "output_type": "execute_result",
          "data": {
            "text/plain": [
              "ModelNN(\n",
              "  (layers): ModuleList(\n",
              "    (0): Linear(in_features=784, out_features=392, bias=True)\n",
              "    (1): Linear(in_features=392, out_features=261, bias=True)\n",
              "    (2): Linear(in_features=261, out_features=196, bias=True)\n",
              "  )\n",
              "  (layer_out): Linear(in_features=196, out_features=10, bias=True)\n",
              ")"
            ]
          },
          "metadata": {},
          "execution_count": 14
        }
      ]
    },
    {
      "cell_type": "code",
      "source": [
        "len(list(model.parameters()))"
      ],
      "metadata": {
        "colab": {
          "base_uri": "https://localhost:8080/"
        },
        "id": "ffya85boeIMD",
        "outputId": "85e0cbc6-a5b2-45b8-9cb0-beebd941f14d"
      },
      "execution_count": 15,
      "outputs": [
        {
          "output_type": "execute_result",
          "data": {
            "text/plain": [
              "8"
            ]
          },
          "metadata": {},
          "execution_count": 15
        }
      ]
    },
    {
      "cell_type": "markdown",
      "source": [
        "### solution 2"
      ],
      "metadata": {
        "id": "YPnZDSbOfSHn"
      }
    },
    {
      "cell_type": "code",
      "source": [
        "class ModelNN(nn.Module):\n",
        "  def __init__(self,input_dim, output_dim, n_layer=3):\n",
        "    super().__init__()\n",
        "    self.layers = nn.ModuleList()\n",
        "\n",
        "    for n in range(1, n_layer+1):\n",
        "      self.layers.add_module(f'layer_{n}', nn.Linear(input_dim//n, input_dim//(n+1)))\n",
        "\n",
        "    self.layer_out = nn.Linear(input_dim//(n_layer+1), output_dim)\n",
        "\n",
        "  def forward(self, x):\n",
        "    for layer in self.layers:\n",
        "      x = layer(x)\n",
        "      x = nn.functional.tanh(x)\n",
        "\n",
        "    x = self.layer_out(x)\n",
        "    return x"
      ],
      "metadata": {
        "id": "FU4Q1_T9fV5E"
      },
      "execution_count": 16,
      "outputs": []
    },
    {
      "cell_type": "code",
      "source": [
        "model = ModelNN(28*28, 10)"
      ],
      "metadata": {
        "id": "E-2om72gftQo"
      },
      "execution_count": 17,
      "outputs": []
    },
    {
      "cell_type": "code",
      "source": [
        "model"
      ],
      "metadata": {
        "colab": {
          "base_uri": "https://localhost:8080/"
        },
        "id": "QbKucBP7frk4",
        "outputId": "937f456c-3325-4789-ec4d-3a85cd602e98"
      },
      "execution_count": 18,
      "outputs": [
        {
          "output_type": "execute_result",
          "data": {
            "text/plain": [
              "ModelNN(\n",
              "  (layers): ModuleList(\n",
              "    (0): Linear(in_features=784, out_features=392, bias=True)\n",
              "    (1): Linear(in_features=392, out_features=261, bias=True)\n",
              "    (2): Linear(in_features=261, out_features=196, bias=True)\n",
              "  )\n",
              "  (layer_out): Linear(in_features=196, out_features=10, bias=True)\n",
              ")"
            ]
          },
          "metadata": {},
          "execution_count": 18
        }
      ]
    },
    {
      "cell_type": "code",
      "source": [
        "model.layers.layer_1"
      ],
      "metadata": {
        "colab": {
          "base_uri": "https://localhost:8080/"
        },
        "id": "QWlQ8FKZgfsT",
        "outputId": "c7487034-b85f-402e-d2bd-8a9c9909bd1d"
      },
      "execution_count": 19,
      "outputs": [
        {
          "output_type": "execute_result",
          "data": {
            "text/plain": [
              "Linear(in_features=784, out_features=392, bias=True)"
            ]
          },
          "metadata": {},
          "execution_count": 19
        }
      ]
    },
    {
      "cell_type": "markdown",
      "source": [
        "## ModelDict"
      ],
      "metadata": {
        "id": "--CubGeHgmqT"
      }
    },
    {
      "cell_type": "code",
      "source": [
        "class ModelNN(nn.Module):\n",
        "  def __init__(self,input_dim, output_dim, n_layer=3, act_type=None):\n",
        "    super().__init__()\n",
        "    self.layers = nn.ModuleList()\n",
        "    self.act_type = act_type\n",
        "\n",
        "    for n in range(1, n_layer+1):\n",
        "      self.layers.add_module(f'layer_{n}', nn.Linear(input_dim//n, input_dim//(n+1)))\n",
        "\n",
        "    self.layer_out = nn.Linear(input_dim//(n_layer+1), output_dim)\n",
        "    self.act_lst = nn.ModuleDict({\n",
        "        'relu': nn.ReLU(),\n",
        "        'lk_relu': nn.LeakyReLU()\n",
        "    })\n",
        "\n",
        "  def forward(self, x):\n",
        "    for layer in self.layers:\n",
        "      x = layer(x)\n",
        "      if self.act_type and self.act_type in self.act_lst:\n",
        "        x = self.act_lst[self.act_type](x)\n",
        "\n",
        "    x = self.layer_out(x)\n",
        "    return x"
      ],
      "metadata": {
        "id": "dHDfkn5vghjR"
      },
      "execution_count": 20,
      "outputs": []
    },
    {
      "cell_type": "code",
      "source": [
        "model = ModelNN(28*28, 10, act_type='relu')"
      ],
      "metadata": {
        "id": "496lx8yIhas9"
      },
      "execution_count": 21,
      "outputs": []
    },
    {
      "cell_type": "code",
      "source": [
        "model"
      ],
      "metadata": {
        "colab": {
          "base_uri": "https://localhost:8080/"
        },
        "id": "7XnxRNm_he9Q",
        "outputId": "46153ae7-1127-4424-ce8a-5e8a02633f4f"
      },
      "execution_count": 22,
      "outputs": [
        {
          "output_type": "execute_result",
          "data": {
            "text/plain": [
              "ModelNN(\n",
              "  (layers): ModuleList(\n",
              "    (0): Linear(in_features=784, out_features=392, bias=True)\n",
              "    (1): Linear(in_features=392, out_features=261, bias=True)\n",
              "    (2): Linear(in_features=261, out_features=196, bias=True)\n",
              "  )\n",
              "  (layer_out): Linear(in_features=196, out_features=10, bias=True)\n",
              "  (act_lst): ModuleDict(\n",
              "    (relu): ReLU()\n",
              "    (lk_relu): LeakyReLU(negative_slope=0.01)\n",
              "  )\n",
              ")"
            ]
          },
          "metadata": {},
          "execution_count": 22
        }
      ]
    }
  ]
}