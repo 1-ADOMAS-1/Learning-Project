{
  "nbformat": 4,
  "nbformat_minor": 0,
  "metadata": {
    "colab": {
      "provenance": []
    },
    "kernelspec": {
      "name": "python3",
      "display_name": "Python 3"
    },
    "language_info": {
      "name": "python"
    }
  },
  "cells": [
    {
      "cell_type": "markdown",
      "source": [
        "# Back Propagation"
      ],
      "metadata": {
        "id": "kxuN4NbXp4Gr"
      }
    },
    {
      "cell_type": "markdown",
      "source": [
        "## import libraries"
      ],
      "metadata": {
        "id": "4a6t4R4MqAIA"
      }
    },
    {
      "cell_type": "code",
      "execution_count": 1,
      "metadata": {
        "id": "FDQPqZKsvjbQ"
      },
      "outputs": [],
      "source": [
        "import torch\n",
        "from random import randint"
      ]
    },
    {
      "cell_type": "markdown",
      "source": [
        "## NN"
      ],
      "metadata": {
        "id": "y2gq5rP4sniG"
      }
    },
    {
      "cell_type": "markdown",
      "source": [
        "activation function"
      ],
      "metadata": {
        "id": "obxePOAIqOuE"
      }
    },
    {
      "cell_type": "code",
      "source": [
        "def act(z: float) -> float:\n",
        "  return torch.tanh(z)"
      ],
      "metadata": {
        "id": "MFu6nKpyqME4"
      },
      "execution_count": 2,
      "outputs": []
    },
    {
      "cell_type": "markdown",
      "source": [
        "derivative activation function"
      ],
      "metadata": {
        "id": "BPDz3_7LqiF1"
      }
    },
    {
      "cell_type": "code",
      "source": [
        "def df(z: float) -> float:\n",
        "  s = act(z)\n",
        "  return 1 - s*s"
      ],
      "metadata": {
        "id": "ClGrQBLnqhEL"
      },
      "execution_count": 3,
      "outputs": []
    },
    {
      "cell_type": "markdown",
      "source": [
        "forward"
      ],
      "metadata": {
        "id": "Kbvh5t_2q6qu"
      }
    },
    {
      "cell_type": "code",
      "source": [
        "def go_forward(x: torch.Tensor, w1: torch.Tensor, w2: torch.Tensor) -> tuple: # len(x) == 3\n",
        "  z1 = torch.mv(w1[:, :3], x) + w1[:, 3] # torch.tensor + bies\n",
        "  s1 = act(z1)\n",
        "\n",
        "  z2 = torch.dot(w2[:2], s1) + w2[2]\n",
        "  y = act(z2)\n",
        "  return y, z1, s1, z2"
      ],
      "metadata": {
        "id": "LVBUAXmiq8W4"
      },
      "execution_count": 4,
      "outputs": []
    },
    {
      "cell_type": "markdown",
      "source": [
        "seed"
      ],
      "metadata": {
        "id": "ih4MqRDEslSF"
      }
    },
    {
      "cell_type": "code",
      "source": [
        "torch.manual_seed(1)\n",
        "\n",
        "w1 = torch.rand(8).view(2, 4) - 0.5\n",
        "w2 = torch.rand(3) - 0.5"
      ],
      "metadata": {
        "id": "OjVBgs-VrdYu"
      },
      "execution_count": 5,
      "outputs": []
    },
    {
      "cell_type": "markdown",
      "source": [
        "samples"
      ],
      "metadata": {
        "id": "VA_uADE1uQ0w"
      }
    },
    {
      "cell_type": "code",
      "source": [
        "X_train = torch.FloatTensor([(-1,-1,-1),\n",
        " (-1,-1,1), (-1,1,-1), (1,-1,-1),\n",
        " (1,1,-1), (1,-1,1), (-1,1,1), (1,1,1)])\n",
        "\n",
        "y_train = torch.FloatTensor([-1, 1, -1, 1, -1, 1, -1, -1])"
      ],
      "metadata": {
        "id": "4lR9MO3dtLwR"
      },
      "execution_count": 6,
      "outputs": []
    },
    {
      "cell_type": "markdown",
      "source": [
        "parameters"
      ],
      "metadata": {
        "id": "zu4opmXNuL6a"
      }
    },
    {
      "cell_type": "code",
      "source": [
        "ln = 0.05\n",
        "N = 5000\n",
        "total = len(y_train)"
      ],
      "metadata": {
        "id": "v_Os5gQRtk2c"
      },
      "execution_count": 7,
      "outputs": []
    },
    {
      "cell_type": "markdown",
      "source": [
        "## Back Propagation"
      ],
      "metadata": {
        "id": "spBGtFMyuJMB"
      }
    },
    {
      "cell_type": "code",
      "source": [
        "for _ in range(N):\n",
        "  k = randint(0, total-1)\n",
        "  x = X_train[k]\n",
        "  y, z1, s1, out = go_forward(x, w1, w2)\n",
        "\n",
        "  e = y - y_train[k]\n",
        "  delta = e*df(out)\n",
        "  delta2 = w2[:2] * delta * df(z1)\n",
        "\n",
        "  w2[:2] = w2[:2] - ln * delta * s1\n",
        "  w2[2] = w2[2] - ln*delta\n",
        "\n",
        "  w1[0, :3] = w1[0, :3] - ln * delta2[0] * x\n",
        "  w1[1, :3] = w1[1, :3] - ln * delta2[1] * x\n",
        "\n",
        "  w1[0, 3] = w1[0, 3] - ln * delta2[0]\n",
        "  w1[1, 3] = w1[1, 3] - ln * delta2[1]"
      ],
      "metadata": {
        "id": "o5bWRWP4t_Xz"
      },
      "execution_count": 8,
      "outputs": []
    },
    {
      "cell_type": "markdown",
      "source": [
        "## Tested"
      ],
      "metadata": {
        "id": "7MoJPPWRwMqD"
      }
    },
    {
      "cell_type": "code",
      "source": [
        "for x, d in zip(X_train, y_train):\n",
        "  y, z1,s1,z2 = go_forward(x, w1, w2)\n",
        "  print(f'output {y:.3f} -> {d}')"
      ],
      "metadata": {
        "colab": {
          "base_uri": "https://localhost:8080/"
        },
        "id": "wrNeoDSqwPkg",
        "outputId": "3b229b9c-7f2d-41ee-8a43-1b1b29ddbed5"
      },
      "execution_count": 9,
      "outputs": [
        {
          "output_type": "stream",
          "name": "stdout",
          "text": [
            "output -0.960 -> -1.0\n",
            "output 0.966 -> 1.0\n",
            "output -0.999 -> -1.0\n",
            "output 0.966 -> 1.0\n",
            "output -0.998 -> -1.0\n",
            "output 0.995 -> 1.0\n",
            "output -0.998 -> -1.0\n",
            "output -0.969 -> -1.0\n"
          ]
        }
      ]
    },
    {
      "cell_type": "code",
      "source": [
        "w1, w2"
      ],
      "metadata": {
        "colab": {
          "base_uri": "https://localhost:8080/"
        },
        "id": "hsnYHmhCwl08",
        "outputId": "fe59a3e1-008e-4da6-e63c-546c048da4ab"
      },
      "execution_count": 10,
      "outputs": [
        {
          "output_type": "execute_result",
          "data": {
            "text/plain": [
              "(tensor([[ 0.4476, -0.9389,  0.4359, -0.2581],\n",
              "         [-0.7970,  1.6001, -0.8061,  0.6937]]),\n",
              " tensor([ 1.2324, -2.2670, -0.3373]))"
            ]
          },
          "metadata": {},
          "execution_count": 10
        }
      ]
    }
  ]
}