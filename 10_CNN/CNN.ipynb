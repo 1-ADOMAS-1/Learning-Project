{
  "nbformat": 4,
  "nbformat_minor": 0,
  "metadata": {
    "colab": {
      "provenance": [],
      "gpuType": "T4"
    },
    "kernelspec": {
      "name": "python3",
      "display_name": "Python 3"
    },
    "language_info": {
      "name": "python"
    },
    "accelerator": "GPU"
  },
  "cells": [
    {
      "cell_type": "markdown",
      "source": [
        "# CNN\n"
      ],
      "metadata": {
        "id": "Xx81xowoyLR5"
      }
    },
    {
      "cell_type": "markdown",
      "source": [
        "## import libraries"
      ],
      "metadata": {
        "id": "HpUdQDOnyJMu"
      }
    },
    {
      "cell_type": "code",
      "source": [
        "import os\n",
        "import json\n",
        "from PIL import Image\n",
        "\n",
        "import torch\n",
        "import torch.utils.data as data\n",
        "import torchvision.transforms.v2 as v2\n",
        "import torch.nn as nn\n",
        "import torch.optim as optim\n",
        "from tqdm import tqdm"
      ],
      "metadata": {
        "id": "OGuPm6fiZNA2"
      },
      "execution_count": 1,
      "outputs": []
    },
    {
      "cell_type": "markdown",
      "source": [
        "## dataset"
      ],
      "metadata": {
        "id": "Iv0BkInKxDj5"
      }
    },
    {
      "cell_type": "markdown",
      "source": [
        "### unzip"
      ],
      "metadata": {
        "id": "eZj9iXe02ENG"
      }
    },
    {
      "cell_type": "code",
      "source": [
        "!unzip /content/dataset_gen_reg.zip"
      ],
      "metadata": {
        "colab": {
          "base_uri": "https://localhost:8080/"
        },
        "id": "wJxObMzC0m4t",
        "outputId": "df40008b-f675-46bb-d397-307e61e474b9"
      },
      "execution_count": 2,
      "outputs": [
        {
          "output_type": "stream",
          "name": "stdout",
          "text": [
            "Archive:  /content/dataset_gen_reg.zip\n",
            "   creating: dataset_gen_reg/\n",
            "   creating: dataset_gen_reg/images/\n",
            "  inflating: dataset_gen_reg/images/back_1.png  \n",
            "  inflating: dataset_gen_reg/images/back_10.png  \n",
            "  inflating: dataset_gen_reg/images/back_2.png  \n",
            "  inflating: dataset_gen_reg/images/back_3.png  \n",
            "  inflating: dataset_gen_reg/images/back_4.png  \n",
            "  inflating: dataset_gen_reg/images/back_5.png  \n",
            "  inflating: dataset_gen_reg/images/back_6.png  \n",
            "  inflating: dataset_gen_reg/images/back_7.png  \n",
            "  inflating: dataset_gen_reg/images/back_8.png  \n",
            "  inflating: dataset_gen_reg/images/back_9.png  \n",
            " extracting: dataset_gen_reg/images/sun64.png  \n"
          ]
        }
      ]
    },
    {
      "cell_type": "code",
      "source": [
        "import shutil"
      ],
      "metadata": {
        "id": "ApWL2Wcc1GBd"
      },
      "execution_count": 3,
      "outputs": []
    },
    {
      "cell_type": "code",
      "source": [
        "shutil.move('/content/dataset_gen_reg/images', '/content')"
      ],
      "metadata": {
        "colab": {
          "base_uri": "https://localhost:8080/",
          "height": 35
        },
        "id": "DmwbvxDM1H3f",
        "outputId": "e7c6277a-7b12-44e2-e281-7a379dffad0a"
      },
      "execution_count": 4,
      "outputs": [
        {
          "output_type": "execute_result",
          "data": {
            "text/plain": [
              "'/content/images'"
            ],
            "application/vnd.google.colaboratory.intrinsic+json": {
              "type": "string"
            }
          },
          "metadata": {},
          "execution_count": 4
        }
      ]
    },
    {
      "cell_type": "code",
      "source": [
        "os.remove(\"/content/dataset_gen_reg.zip\")"
      ],
      "metadata": {
        "id": "nSBVJtHr1fMt"
      },
      "execution_count": 5,
      "outputs": []
    },
    {
      "cell_type": "code",
      "source": [
        "os.rmdir('/content/dataset_gen_reg')"
      ],
      "metadata": {
        "id": "99eKna4Y123a"
      },
      "execution_count": 6,
      "outputs": []
    },
    {
      "cell_type": "markdown",
      "source": [
        "### data"
      ],
      "metadata": {
        "id": "cTLd37sc1_Cn"
      }
    },
    {
      "cell_type": "code",
      "source": [
        "train_data = {'total': 10000, 'dir': \"train\"}\n",
        "test_data = {'total': 1000, 'dir': \"test\"}\n",
        "total_bk = 10\n",
        "total_cls = 4\n",
        "dir_out = 'dataset_reg'\n",
        "file_format = 'format.json'\n",
        "cls = [(255, 255, 255), (0, 0, 255), (0, 255, 0), (255, 0, 0)]"
      ],
      "metadata": {
        "id": "Q4PdimF3x6x7"
      },
      "execution_count": 7,
      "outputs": []
    },
    {
      "cell_type": "markdown",
      "source": [
        "libraries"
      ],
      "metadata": {
        "id": "5JSLH9maxoLT"
      }
    },
    {
      "cell_type": "code",
      "source": [
        "from random import randint\n",
        "import json\n",
        "import pygame"
      ],
      "metadata": {
        "colab": {
          "base_uri": "https://localhost:8080/"
        },
        "id": "Mbe9ZKk9xknP",
        "outputId": "9ece171c-2129-4d2e-8ff5-8afbdac4b9fb"
      },
      "execution_count": 8,
      "outputs": [
        {
          "output_type": "stream",
          "name": "stdout",
          "text": [
            "pygame 2.6.1 (SDL 2.28.4, Python 3.12.11)\n",
            "Hello from the pygame community. https://www.pygame.org/contribute.html\n"
          ]
        }
      ]
    },
    {
      "cell_type": "markdown",
      "source": [
        "folders"
      ],
      "metadata": {
        "id": "eQvCC1Q1xuxk"
      }
    },
    {
      "cell_type": "code",
      "source": [
        "if not os.path.exists(dir_out):\n",
        "    os.mkdir(dir_out)\n",
        "    if not os.path.exists(os.path.join(dir_out, \"train\")):\n",
        "        os.mkdir(os.path.join(dir_out, \"train\"))\n",
        "    if not os.path.exists(os.path.join(dir_out, \"test\")):\n",
        "        os.mkdir(os.path.join(dir_out, \"test\"))"
      ],
      "metadata": {
        "id": "tzNi8KNEx1vD"
      },
      "execution_count": 9,
      "outputs": []
    },
    {
      "cell_type": "code",
      "source": [
        "sun = pygame.image.load(\"images/sun64.png\")\n",
        "backs = [pygame.image.load(f\"images/back_{n}.png\") for n in range(1, total_bk+1)]"
      ],
      "metadata": {
        "id": "qWvjQ-LRzrB0"
      },
      "execution_count": 10,
      "outputs": []
    },
    {
      "cell_type": "markdown",
      "source": [
        "image"
      ],
      "metadata": {
        "id": "19tQe0d0yRN1"
      }
    },
    {
      "cell_type": "code",
      "source": [
        "for info in (train_data, test_data):\n",
        "    sun_coords = dict()\n",
        "\n",
        "    for i in range(1, info['total']+1):\n",
        "        file_out = f\"sun_reg_{i}.png\"\n",
        "        im = backs[randint(0, total_bk-1)].copy()\n",
        "\n",
        "        for _ in range(randint(20, 100)):\n",
        "            x0 = randint(0, 256)\n",
        "            y0 = randint(0, 256)\n",
        "            pygame.draw.circle(im, cls[randint(0, total_cls-1)], (x0, y0), 1)\n",
        "\n",
        "        x = randint(32, 256 - 32)\n",
        "        y = randint(32, 256 - 32)\n",
        "        sun_coords[file_out] = (x, y)\n",
        "        im.blit(sun, (x-32, y-32))\n",
        "\n",
        "        pygame.image.save(im, os.path.join(dir_out, info['dir'], file_out))\n",
        "\n",
        "    fp = open(os.path.join(dir_out, info['dir'], file_format), \"w\")\n",
        "    json.dump(sun_coords, fp)\n",
        "    fp.close()"
      ],
      "metadata": {
        "id": "Z27kLQCCyQ-R"
      },
      "execution_count": 11,
      "outputs": []
    },
    {
      "cell_type": "markdown",
      "source": [
        "## class Dataset"
      ],
      "metadata": {
        "id": "90Dj8j0B47zv"
      }
    },
    {
      "cell_type": "code",
      "source": [
        "class SunData(data.Dataset):\n",
        "  def __init__(self, path, train= True, transform=None) -> None:\n",
        "      super().__init__()\n",
        "      self.path = os.path.join('/content/dataset_reg', 'train' if train else 'test')\n",
        "      self.transform = transform\n",
        "\n",
        "      with open(os.path.join(self.path, 'format.json'), 'r') as f:\n",
        "        self.format = json.load(f)\n",
        "\n",
        "      self.length = len(self.format)\n",
        "      self.files = tuple(self.format.keys())\n",
        "      self.targets = tuple(self.format.values())\n",
        "\n",
        "  def __getitem__(self, item):\n",
        "      path_file = os.path.join(self.path, self.files[item])\n",
        "      img = Image.open(path_file).convert('RGB')\n",
        "\n",
        "      if self.transform:\n",
        "        img = self.transform(img)\n",
        "\n",
        "      return img, torch.tensor(self.targets[item], dtype=torch.float32)\n",
        "\n",
        "  def __len__(self):\n",
        "    return self.length"
      ],
      "metadata": {
        "id": "X59RwbQ-497L"
      },
      "execution_count": 12,
      "outputs": []
    },
    {
      "cell_type": "code",
      "source": [
        "transorm = v2.Compose([v2.ToImage(), v2.ToDtype(torch.float32, scale=True)])\n",
        "batch_size = 150\n",
        "\n",
        "\n",
        "d_train = SunData('/content/dataset_reg', transform=transorm)\n",
        "train_loader = data.DataLoader(d_train, batch_size=batch_size, shuffle=True, pin_memory=True, num_workers=8)\n",
        "d_test = SunData('/content/dataset_reg', train=False,transform=transorm)\n",
        "test_loader = data.DataLoader(d_test, batch_size=batch_size, shuffle=False, pin_memory=True, num_workers=8)"
      ],
      "metadata": {
        "colab": {
          "base_uri": "https://localhost:8080/"
        },
        "id": "prc9O8hm9IJu",
        "outputId": "abcc15f5-a86b-4851-82ca-082a123750e4"
      },
      "execution_count": 13,
      "outputs": [
        {
          "output_type": "stream",
          "name": "stderr",
          "text": [
            "/usr/local/lib/python3.12/dist-packages/torch/utils/data/dataloader.py:627: UserWarning: This DataLoader will create 8 worker processes in total. Our suggested max number of worker in current system is 2, which is smaller than what this DataLoader is going to create. Please be aware that excessive worker creation might get DataLoader running slow or even freeze, lower the worker number to avoid potential slowness/freeze if necessary.\n",
            "  warnings.warn(\n"
          ]
        }
      ]
    },
    {
      "cell_type": "markdown",
      "source": [
        "##sun CNN"
      ],
      "metadata": {
        "id": "YV5wLO7a-cqE"
      }
    },
    {
      "cell_type": "code",
      "source": [
        "device = torch.device('cuda' if torch.cuda.is_available() else 'cpu')"
      ],
      "metadata": {
        "id": "jothg_GsC0sR"
      },
      "execution_count": 14,
      "outputs": []
    },
    {
      "cell_type": "code",
      "source": [
        "model = nn.Sequential(\n",
        "    nn.Conv2d(3, 32, 3, padding='same'),\n",
        "    nn.ReLU(),\n",
        "    nn.MaxPool2d(2), #batch 32 128 128\n",
        "\n",
        "    nn.Conv2d(32, 16, 3, padding='same'),\n",
        "    nn.ReLU(),\n",
        "    nn.MaxPool2d(2), #batch 8 64 64\n",
        "\n",
        "    nn.Conv2d(16, 8, 3, padding='same'),\n",
        "    nn.ReLU(),\n",
        "    nn.MaxPool2d(2), #batch 4 32 32\n",
        "\n",
        "    nn.Flatten(),\n",
        "    nn.Linear(32*32*8, 128),\n",
        "    nn.ReLU(),\n",
        "    nn.Linear(128, 2),\n",
        ")"
      ],
      "metadata": {
        "id": "f6pCo_X8-f5h"
      },
      "execution_count": 15,
      "outputs": []
    },
    {
      "cell_type": "markdown",
      "source": [
        "## train"
      ],
      "metadata": {
        "id": "uslKek_UAP30"
      }
    },
    {
      "cell_type": "code",
      "source": [
        "optimizer = optim.Adam(params=model.parameters(), lr=0.001, weight_decay=0.001) # L2\n",
        "loss_f = nn.MSELoss()"
      ],
      "metadata": {
        "id": "1t1aRvMYAOvY"
      },
      "execution_count": 16,
      "outputs": []
    },
    {
      "cell_type": "code",
      "source": [
        "epoch = 10\n",
        "model.to(device)\n",
        "model.train()\n",
        "\n",
        "\n",
        "for _e in range(epoch):\n",
        "  loss_mean = 0\n",
        "  lm_count = 0\n",
        "\n",
        "  training_tqdm = tqdm(train_loader, leave=True)\n",
        "  for x_train, y_train in training_tqdm:\n",
        "    x_train = x_train.to(device, non_blocking=True)\n",
        "    y_train = y_train.to(device, non_blocking=True)\n",
        "    pred = model(x_train)\n",
        "    loss = loss_f(pred, y_train)\n",
        "\n",
        "    optimizer.zero_grad()\n",
        "    loss.backward()\n",
        "    optimizer.step()\n",
        "\n",
        "    lm_count += 1\n",
        "    loss_mean = 1/lm_count*loss.item() + (1-1/lm_count)*loss_mean\n"
      ],
      "metadata": {
        "colab": {
          "base_uri": "https://localhost:8080/"
        },
        "id": "BiG2p7EeAtyS",
        "outputId": "55405193-ca76-4a60-9270-2dba75601bd5"
      },
      "execution_count": 17,
      "outputs": [
        {
          "output_type": "stream",
          "name": "stderr",
          "text": [
            "100%|██████████| 67/67 [00:31<00:00,  2.10it/s]\n",
            "100%|██████████| 67/67 [00:30<00:00,  2.18it/s]\n",
            "100%|██████████| 67/67 [00:32<00:00,  2.07it/s]\n",
            "100%|██████████| 67/67 [00:30<00:00,  2.20it/s]\n",
            "100%|██████████| 67/67 [00:31<00:00,  2.11it/s]\n",
            "100%|██████████| 67/67 [00:30<00:00,  2.22it/s]\n",
            "100%|██████████| 67/67 [00:30<00:00,  2.20it/s]\n",
            "100%|██████████| 67/67 [00:31<00:00,  2.15it/s]\n",
            "100%|██████████| 67/67 [00:30<00:00,  2.18it/s]\n",
            "100%|██████████| 67/67 [00:31<00:00,  2.12it/s]\n"
          ]
        }
      ]
    },
    {
      "cell_type": "markdown",
      "source": [
        "## test"
      ],
      "metadata": {
        "id": "l1DxSGjNBkcE"
      }
    },
    {
      "cell_type": "code",
      "source": [
        "model.eval()\n",
        "Q=0\n",
        "count=1\n",
        "\n",
        "testing_tqdm = tqdm(test_loader, leave=True)\n",
        "for x_test, y_test in testing_tqdm:\n",
        "  with torch.no_grad():\n",
        "    x_test = x_test.to(device)\n",
        "    y_test = y_test.to(device)\n",
        "    pred = model(x_test)\n",
        "    Q += loss_f(pred, y_test).item()\n",
        "    count += 1\n",
        "\n",
        "Q/count"
      ],
      "metadata": {
        "colab": {
          "base_uri": "https://localhost:8080/"
        },
        "id": "q4x4UbDVBmi9",
        "outputId": "80c2363a-1b04-463d-f85c-e93347322571"
      },
      "execution_count": 19,
      "outputs": [
        {
          "output_type": "stream",
          "name": "stderr",
          "text": [
            "100%|██████████| 7/7 [00:05<00:00,  1.31it/s]\n"
          ]
        },
        {
          "output_type": "execute_result",
          "data": {
            "text/plain": [
              "7.0555614829063416"
            ]
          },
          "metadata": {},
          "execution_count": 19
        }
      ]
    }
  ]
}