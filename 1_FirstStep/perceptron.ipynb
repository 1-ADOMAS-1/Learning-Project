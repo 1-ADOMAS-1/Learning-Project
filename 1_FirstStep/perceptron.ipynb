{
  "nbformat": 4,
  "nbformat_minor": 0,
  "metadata": {
    "colab": {
      "provenance": []
    },
    "kernelspec": {
      "name": "python3",
      "display_name": "Python 3"
    },
    "language_info": {
      "name": "python"
    }
  },
  "cells": [
    {
      "cell_type": "markdown",
      "source": [
        "# the simplest perceptron for qualification of two criteria"
      ],
      "metadata": {
        "id": "nvFUe7UvCAeD"
      }
    },
    {
      "cell_type": "markdown",
      "source": [
        "## import libraries"
      ],
      "metadata": {
        "id": "1mRXI12GCyd7"
      }
    },
    {
      "cell_type": "code",
      "execution_count": 15,
      "metadata": {
        "id": "ZDfsvJHmBwEX"
      },
      "outputs": [],
      "source": [
        "import torch\n",
        "import matplotlib.pyplot as plt\n",
        "\n",
        "%matplotlib inline"
      ]
    },
    {
      "cell_type": "markdown",
      "source": [
        "1 class"
      ],
      "metadata": {
        "id": "FyM6d7qnDZkE"
      }
    },
    {
      "cell_type": "code",
      "source": [
        "N = 50\n",
        "\n",
        "x1 = torch.rand(N)\n",
        "x2 = x1 + torch.randint(1, 10, [N]) / 10\n",
        "C1 = torch.vstack([x1, x2]).mT\n",
        "C1[:10]"
      ],
      "metadata": {
        "colab": {
          "base_uri": "https://localhost:8080/"
        },
        "id": "irlwNPbgDDz3",
        "outputId": "26007e3c-489b-4531-93d7-d91d675b39c5"
      },
      "execution_count": 16,
      "outputs": [
        {
          "output_type": "execute_result",
          "data": {
            "text/plain": [
              "tensor([[0.4097, 0.8097],\n",
              "        [0.9086, 1.6086],\n",
              "        [0.8709, 1.2709],\n",
              "        [0.1410, 0.6410],\n",
              "        [0.8662, 1.3662],\n",
              "        [0.5050, 1.0050],\n",
              "        [0.4638, 1.3638],\n",
              "        [0.6012, 1.1012],\n",
              "        [0.8119, 1.0119],\n",
              "        [0.3593, 0.7593]])"
            ]
          },
          "metadata": {},
          "execution_count": 16
        }
      ]
    },
    {
      "cell_type": "markdown",
      "source": [
        "2 class"
      ],
      "metadata": {
        "id": "1Ni4CZAVDbec"
      }
    },
    {
      "cell_type": "code",
      "source": [
        "x1 = torch.rand(N)\n",
        "x2 = x1 - torch.randint(1, 10, [N]) / 10\n",
        "C2 = torch.vstack([x1, x2]).mT\n",
        "C2[:10]"
      ],
      "metadata": {
        "colab": {
          "base_uri": "https://localhost:8080/"
        },
        "id": "PkZ-4JlhDiYz",
        "outputId": "2d02ed1d-0acf-4fd6-87c5-6c9014d86ece"
      },
      "execution_count": 17,
      "outputs": [
        {
          "output_type": "execute_result",
          "data": {
            "text/plain": [
              "tensor([[ 0.6675, -0.1325],\n",
              "        [ 0.6169,  0.1169],\n",
              "        [ 0.9946,  0.4946],\n",
              "        [ 0.3801, -0.2199],\n",
              "        [ 0.1090, -0.1910],\n",
              "        [ 0.6437, -0.1563],\n",
              "        [ 0.6852,  0.3852],\n",
              "        [ 0.2843,  0.0843],\n",
              "        [ 0.4393, -0.2607],\n",
              "        [ 0.4032,  0.2032]])"
            ]
          },
          "metadata": {},
          "execution_count": 17
        }
      ]
    },
    {
      "cell_type": "markdown",
      "source": [
        "dividing line"
      ],
      "metadata": {
        "id": "YvHpjbzkED2f"
      }
    },
    {
      "cell_type": "code",
      "source": [
        "f = [0, 1]"
      ],
      "metadata": {
        "id": "w-SyMiYqEB__"
      },
      "execution_count": 18,
      "outputs": []
    },
    {
      "cell_type": "markdown",
      "source": [
        "## qualification algorithm"
      ],
      "metadata": {
        "id": "FulvDhseE-oO"
      }
    },
    {
      "cell_type": "code",
      "source": [
        "C = C1\n",
        "\n",
        "w = torch.FloatTensor([-0.3, 0.3])\n",
        "\n",
        "for i in range(N):\n",
        "  x = C[:][i]\n",
        "  y = torch.dot(w,x)\n",
        "  if i%5==0:\n",
        "    if y>=0:\n",
        "      print('Class №1')\n",
        "    else:\n",
        "      print('Class №2')"
      ],
      "metadata": {
        "colab": {
          "base_uri": "https://localhost:8080/"
        },
        "collapsed": true,
        "id": "8pJ7h3grEIwM",
        "outputId": "3c2e5074-f923-4eae-9074-32478e7ac84a"
      },
      "execution_count": 19,
      "outputs": [
        {
          "output_type": "stream",
          "name": "stdout",
          "text": [
            "Class №1\n",
            "Class №1\n",
            "Class №1\n",
            "Class №1\n",
            "Class №1\n",
            "Class №1\n",
            "Class №1\n",
            "Class №1\n",
            "Class №1\n",
            "Class №1\n"
          ]
        }
      ]
    },
    {
      "cell_type": "markdown",
      "source": [
        "## class images"
      ],
      "metadata": {
        "id": "6ZIrnyilGHJe"
      }
    },
    {
      "cell_type": "code",
      "source": [
        "plt.figure(figsize=(6,6))\n",
        "plt.scatter(C1[:, 0], C1[:, 1], s=10, c='red')\n",
        "plt.scatter(C2[:, 0], C2[:, 1], s=10, c='blue')\n",
        "plt.plot(f)\n",
        "plt.grid()\n",
        "plt.show()"
      ],
      "metadata": {
        "colab": {
          "base_uri": "https://localhost:8080/",
          "height": 522
        },
        "id": "jgRZ0rPoE3tg",
        "outputId": "85d979a4-9893-47c0-e67b-383c1631865a"
      },
      "execution_count": 20,
      "outputs": [
        {
          "output_type": "display_data",
          "data": {
            "text/plain": [
              "<Figure size 600x600 with 1 Axes>"
            ],
            "image/png": "[encoded data removed]"
          },
          "metadata": {}
        }
      ]
    },
    {
      "cell_type": "markdown",
      "source": [
        "bias"
      ],
      "metadata": {
        "id": "WHuoH6UsHOrl"
      }
    },
    {
      "cell_type": "code",
      "source": [
        "b = 3"
      ],
      "metadata": {
        "id": "9saouG5nHclu"
      },
      "execution_count": 21,
      "outputs": []
    },
    {
      "cell_type": "code",
      "source": [
        "x1 = torch.rand(N)\n",
        "x2 = x1 + torch.randint(1, 10, [N]) / 10 + b\n",
        "C1 = torch.vstack([x1, x2, torch.ones(N)]).mT\n",
        "\n",
        "x1 = torch.rand(N)\n",
        "x2 = x1 - torch.randint(1, 10, [N]) / 10 + b\n",
        "C2 = torch.vstack([x1, x2, torch.ones(N)]).mT\n",
        "\n",
        "f = [0+b, 1+b]\n",
        "w1 = -0.5\n",
        "w2 = -w1\n",
        "\n",
        "w3 = -b * w2\n",
        "\n",
        "w = torch.FloatTensor([w1,w2,w3])"
      ],
      "metadata": {
        "id": "s6IxhQ76HmsE"
      },
      "execution_count": 22,
      "outputs": []
    },
    {
      "cell_type": "code",
      "source": [
        "C = C1\n",
        "\n",
        "for i in range(N):\n",
        "  x = C[:][i]\n",
        "  y = torch.dot(w,x)\n",
        "  if i%5==0:\n",
        "    if y>=0:\n",
        "      print('Class №1')\n",
        "    else:\n",
        "      print('Class №2')"
      ],
      "metadata": {
        "colab": {
          "base_uri": "https://localhost:8080/"
        },
        "id": "ER0oTzvKIN1V",
        "outputId": "4962e5ee-a2c0-42ce-81a7-bd6a6725b216"
      },
      "execution_count": 23,
      "outputs": [
        {
          "output_type": "stream",
          "name": "stdout",
          "text": [
            "Class №1\n",
            "Class №1\n",
            "Class №1\n",
            "Class №1\n",
            "Class №1\n",
            "Class №1\n",
            "Class №1\n",
            "Class №1\n",
            "Class №1\n",
            "Class №1\n"
          ]
        }
      ]
    },
    {
      "cell_type": "code",
      "source": [
        "plt.figure(figsize=(6,6))\n",
        "plt.scatter(C1[:, 0], C1[:, 1], s=10, c='red')\n",
        "plt.scatter(C2[:, 0], C2[:, 1], s=10, c='blue')\n",
        "plt.plot(f)\n",
        "plt.grid()\n",
        "plt.show()"
      ],
      "metadata": {
        "colab": {
          "base_uri": "https://localhost:8080/",
          "height": 522
        },
        "id": "v1RF1_sqJC2h",
        "outputId": "2f9d129f-7e79-4afc-cb2d-fd0fbb8fdab5"
      },
      "execution_count": 24,
      "outputs": [
        {
          "output_type": "display_data",
          "data": {
            "text/plain": [
              "<Figure size 600x600 with 1 Axes>"
            ],
            "image/png": "[encoded data removed]"
          },
          "metadata": {}
        }
      ]
    },
    {
      "cell_type": "markdown",
      "source": [
        "## XOR"
      ],
      "metadata": {
        "id": "adgEk2cbJgpN"
      }
    },
    {
      "cell_type": "code",
      "source": [
        "def act(x):\n",
        "  return 0 if x <= 0 else 1"
      ],
      "metadata": {
        "id": "DsYfF9zYN2RP"
      },
      "execution_count": 25,
      "outputs": []
    },
    {
      "cell_type": "code",
      "source": [
        "#C1 = 0,1 or 1,0\n",
        "#C2 = 1,1 or 0,0\n",
        "data = [0,0]\n",
        "b = 1\n",
        "x = torch.FloatTensor(data + [b])\n",
        "\n",
        "W_hidden = torch.FloatTensor([\n",
        "    [1, 1, -1.5],\n",
        "    [1, 1, -0.5]\n",
        "])\n",
        "W_out = torch.FloatTensor([-1, 1, -0.5])"
      ],
      "metadata": {
        "id": "yh_7wDTsJiVD"
      },
      "execution_count": 26,
      "outputs": []
    },
    {
      "cell_type": "code",
      "source": [
        "def model(x):\n",
        "  out_hidden_1 = torch.matmul(W_hidden, x)\n",
        "  print(out_hidden_1)\n",
        "  out_Fhidden_1 = torch.FloatTensor([act(x) for x in out_hidden_1] + [1])\n",
        "  print(out_Fhidden_1)\n",
        "\n",
        "  out_hidden_2 = torch.dot(W_out, out_Fhidden_1)\n",
        "  print(out_hidden_2)\n",
        "\n",
        "  y = act(out_hidden_2)\n",
        "  print(y)"
      ],
      "metadata": {
        "id": "g7t8Zv1OLqAP"
      },
      "execution_count": 27,
      "outputs": []
    },
    {
      "cell_type": "code",
      "source": [
        "model(x)"
      ],
      "metadata": {
        "colab": {
          "base_uri": "https://localhost:8080/"
        },
        "id": "VrLYcgo1NbbE",
        "outputId": "975d0961-fef3-455e-e8e9-01177e60be4d"
      },
      "execution_count": 28,
      "outputs": [
        {
          "output_type": "stream",
          "name": "stdout",
          "text": [
            "tensor([-1.5000, -0.5000])\n",
            "tensor([0., 0., 1.])\n",
            "tensor(-0.5000)\n",
            "0\n"
          ]
        }
      ]
    }
  ]
}